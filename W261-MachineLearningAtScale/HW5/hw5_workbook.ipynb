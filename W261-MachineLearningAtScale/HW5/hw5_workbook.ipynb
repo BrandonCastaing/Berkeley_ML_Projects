{
 "cells": [
  {
   "cell_type": "markdown",
   "metadata": {},
   "source": [
    "# HW 5 - Page Rank\n",
    "__`MIDS w261: Machine Learning at Scale | UC Berkeley School of Information | Fall 2018`__\n",
    "\n",
    "In Weeks 8 and 9 you discussed key concepts related to graph based algorithms including SSSP.   \n",
    "In this final homework assignment you'll implement distributed PageRank using some data from Wikipedia.\n",
    "By the end of this homework you should be able to:  \n",
    "* ... __compare/contrast__ adjacency matrices and lists as representations of graphs for parallel computation.\n",
    "* ... __explain__ the goal of the PageRank algorithm using the concept of an infinite Random Walk.\n",
    "* ... __define__ a Markov chain including the conditions underwhich it will converge.\n",
    "* ... __identify__ what modifications must be made to the web graph inorder to leverage Markov Chains.\n",
    "* ... __implement__ distributed PageRank in Spark.\n",
    "\n",
    "__Please refer to the `README` for homework submission instructions and additional resources.__ "
   ]
  },
  {
   "cell_type": "markdown",
   "metadata": {},
   "source": [
    "# Notebook Set-Up\n",
    "Before starting your homework run the following cells to confirm your setup."
   ]
  },
  {
   "cell_type": "code",
   "execution_count": 9,
   "metadata": {},
   "outputs": [],
   "source": [
    "# imports\n",
    "import re\n",
    "import ast\n",
    "import time\n",
    "import numpy as np\n",
    "import pandas as pd\n",
    "import seaborn as sns\n",
    "import networkx as nx\n",
    "import matplotlib.pyplot as plt"
   ]
  },
  {
   "cell_type": "code",
   "execution_count": 10,
   "metadata": {},
   "outputs": [],
   "source": [
    "%reload_ext autoreload\n",
    "%autoreload 2"
   ]
  },
  {
   "cell_type": "code",
   "execution_count": 11,
   "metadata": {
    "collapsed": true
   },
   "outputs": [],
   "source": [
    "# store path to notebook\n",
    "PWD = !pwd\n",
    "PWD = PWD[0]"
   ]
  },
  {
   "cell_type": "code",
   "execution_count": 30,
   "metadata": {
    "collapsed": true
   },
   "outputs": [
    {
     "name": "stdout",
     "output_type": "stream",
     "text": [
      "--packages graphframes:graphframes:0.7.0-spark2.3-s_2.11 pyspark-shell\n"
     ]
    }
   ],
   "source": [
    "# start Spark Session\n",
    "# Added for Extra Credit pt. 2\n",
    "import os\n",
    "PACKAGES = ['graphframes:graphframes:0.7.0-spark2.3-s_2.11']\n",
    "os.environ['PYSPARK_SUBMIT_ARGS'] = f\"--packages {','.join(PACKAGES)} pyspark-shell\"\n",
    "print(os.environ['PYSPARK_SUBMIT_ARGS'])\n",
    "\n",
    "from pyspark.sql import SparkSession\n",
    "app_name = \"hw5_notebook\"\n",
    "master = \"local[*]\"\n",
    "spark = SparkSession\\\n",
    "        .builder\\\n",
    "        .appName(app_name)\\\n",
    "        .master(master)\\\n",
    "        .getOrCreate()\n",
    "sc = spark.sparkContext"
   ]
  },
  {
   "cell_type": "markdown",
   "metadata": {},
   "source": [
    "__`REMINDER`__: If you are running this notebook on the course docker container, you can monitor the progress of your jobs using the Spark UI at: http://localhost:4040/jobs/"
   ]
  },
  {
   "cell_type": "markdown",
   "metadata": {},
   "source": [
    "# Question 1: Distributed Graph Processing\n",
    "Chapter 5 from Lin & Dyer gave you a high level introduction to graph algorithms and concernts that come up when trying to perform distributed computations over them. The questions below are designed to make sure you captured the key points from this reading and your async lectures. \n",
    "\n",
    "\n",
    "### Q1 Tasks:\n",
    "\n",
    "* __a) short response:__ Give an example of a dataset that would be appropriate to represent as a graph. What are the nodes/edges in this dataset? Is the graph you describe 'directed' or 'undirected'? What would the average \"in-degree\" of a node mean in the context of your example? \n",
    "\n",
    "* __b) short response:__ Other than their size/scale, what makes graphs uniquely challenging to work with in the map-reduce paradigm?\n",
    "\n",
    "* __c) short response:__ Briefly describe Dijskra's algorithm (goal/approach). What specific design component makes this approach hard to parallelize?\n",
    "\n",
    "* __d) short response:__ How does parallel breadth-first-search get around the problem that you identified in part `c`? At what expense?"
   ]
  },
  {
   "cell_type": "markdown",
   "metadata": {},
   "source": [
    "### Q1 Student Answers:\n",
    "> __a)__ One example is a dataset for the social media application Twitter where users would be nodes and follows would be edges.  This graph would be directed since user1 can follow user2 without user2 needing to follow user1.  The average in-degree of a node would represent the average number of followers that a given user will have in this example.\n",
    "\n",
    "> __b)__ Graphs are unique in that they require maintaining partial, or full, records of the graph in memory during the MapReduce job.  It is challenging to work within this constraint as there are many ways to represent a graph (e.g. Adjacency Matrix, List, etc), and passing this object between Mappers and Reducers requires complex keys.  Many of the graph based algorithms we have learned also rely on data structures which are difficult to parallelize as well, such as the Priority Queue.  \n",
    "\n",
    "> __c)__ Dijstra's algorithm is used to determine the shortest path from a single node in a graph.  The idea behind this algorithm is to iterate over all nodes using a priority queue to keep track of which nodes to visit next based on their distance from the source node.  During each iteratio, the algorithm expands the shortest distance node and updates the distance to any reachable nodes.  The difficulty in parallelizing this approach is in its reliance on a global priority queue data structure which can't be read/written to with multiple nodes in the MapReduce framework.  \n",
    "\n",
    "> __d)__ Parallel breadth-first-search does not utilize a global priority queue.  It uses a FIFO (Frontier) queue to keep track of which nodes should be processed/expanded next and which ones have already been visited.   The algorithm maps over all nodes to create key-value pairs for each neighbor on the node’s adjacency list, then reduces by selecting the shortest distance and updating the distance in the node data structure.  This algorithm requires multiple iterations (additional MapReduce jobs) in order to compute the shortest distance to all nodes.  Since this is a brute force algorithm, it spends time recomputing previously determined distances which is computationally wasteful compared to Dijkstra's algorithm.  "
   ]
  },
  {
   "cell_type": "markdown",
   "metadata": {},
   "source": [
    "# Question 2: Representing Graphs \n",
    "\n",
    "In class you saw examples of adjacency matrix and adjacency list representations of graphs. These data structures were probably familiar from HW3, though we hadn't before talked about them in the context of graphs. In this question we'll discuss some of the tradeoffs associated with these representations. __`NOTE:`__ We'll use the graph from Figure 5.1 in Lin & Dyer as a toy example. For convenience in the code below we'll label the nodes `A`, `B`, `C`, `D`, and `E` instead of $n_1$, $n_2$, etc but otherwise you should be able to follow along & check our answers against those in the text.\n",
    "\n",
    "\n",
    "<img src=\"Lin-Dyer-graph-Q1.png\" width=\"70%\">\n",
    "\n",
    "### Q2 Tasks:\n",
    "\n",
    "* __a) short response:__ Relatively speaking, is the graph you described in Figure 5.1 in Lin & Dyer \"sparse\" or \"dense\"?  Explain how sparsity/density impacts the adjacency matrix and adjacency list representations of a graph.\n",
    "\n",
    "* __b) short response:__ Run the provided code to create and plot our toy graph. Is this graph directed or undirected? Explain how the adjacency matrices for directed graphs will differ from those of undirected graphs.\n",
    "\n",
    "* __c) code:__ Fill in the missing code to complete the function `get_adj_matr()`.\n",
    "\n",
    "* __d) code:__ Fill in the missing code to complete the function `get_adj_list()`.\n"
   ]
  },
  {
   "cell_type": "markdown",
   "metadata": {},
   "source": [
    "### Q2 Student Answers:\n",
    "> __a)__ In general, the Twitter followers graph would be extremely sparse as most users will not be following most other users.  A typical user likely will only follow a small fraction of the N users available in the network.  As the graph becomes more dense for an adjacency matrix, there will be fewer points which are zero due to no edge (e.g. follow) being present.  As the graph becomes more dense for an adjacency list, there will be more values added to each node (e.g. user) in the list.  In other words, the adjacency list is more space efficient as the graph becomes more sparse.  \n",
    "\n",
    "> __b)__ This graph is directed as noted by the unidirectional arrows for each edge.  The primary difference between the two graph's matrices will be the symetry of the elements along the main diagonal.  The adjacency matrix for a directed graph will have be non-symetric across the matrix's main diagonal while the adjacency matrix for an undirected graph will be symetrical across the matrix's main diagonal.  Arguably, an undirected graph can be represented as only the bottom or top half of the graph since no more information is kept by keeping the entire graph.  \n",
    "\n"
   ]
  },
  {
   "cell_type": "code",
   "execution_count": 5,
   "metadata": {},
   "outputs": [],
   "source": [
    "# part a - a graph is just a list of nodes and edges (RUN THIS CELL AS IS)\n",
    "TOY_GRAPH = {'nodes':['A', 'B', 'C', 'D', 'E'],\n",
    "             'edges':[('A', 'B'), ('A', 'D'), ('B', 'C'), ('B', 'E'), ('C', 'D'), \n",
    "                      ('D', 'E'), ('E', 'A'),('E', 'B'), ('E', 'C')]}"
   ]
  },
  {
   "cell_type": "code",
   "execution_count": 6,
   "metadata": {},
   "outputs": [
    {
     "data": {
      "image/png": "[encoded data removed]",
      "text/plain": [
       "<Figure size 432x288 with 1 Axes>"
      ]
     },
     "metadata": {},
     "output_type": "display_data"
    }
   ],
   "source": [
    "# part a - simple visualization of our toy graph using nx (RUN THIS CELL AS IS)\n",
    "G = nx.DiGraph()\n",
    "G.add_nodes_from(TOY_GRAPH['nodes'])\n",
    "G.add_edges_from(TOY_GRAPH['edges'])\n",
    "nx.draw(G, pos=nx.circular_layout(G), with_labels=True, alpha = 0.5)"
   ]
  },
  {
   "cell_type": "code",
   "execution_count": 26,
   "metadata": {},
   "outputs": [],
   "source": [
    "# part c - adjacency matrix function\n",
    "def get_adj_matr(graph):\n",
    "    \"\"\"\n",
    "    Function to create an adjacency matrix representation of a graph.\n",
    "    arg:\n",
    "        graph - (dict) of 'nodes' : [], 'edges' : []\n",
    "    returns:\n",
    "        pd.DataFrame with entry i,j representing an edge from node i to node j\n",
    "    \"\"\"\n",
    "    n = len(graph['nodes'])\n",
    "    adj_matr = pd.DataFrame(0, columns = graph['nodes'], index = graph['nodes'])\n",
    "    ############### YOUR CODE HERE ##################\n",
    "\n",
    "    for edge in graph['edges']:\n",
    "        adj_matr.at[edge[0], edge[1]] = 1\n",
    "    \n",
    "    ############### (END) YOUR CODE #################\n",
    "    return adj_matr"
   ]
  },
  {
   "cell_type": "code",
   "execution_count": 27,
   "metadata": {},
   "outputs": [
    {
     "name": "stdout",
     "output_type": "stream",
     "text": [
      "   A  B  C  D  E\n",
      "A  0  1  0  1  0\n",
      "B  0  0  1  0  1\n",
      "C  0  0  0  1  0\n",
      "D  0  0  0  0  1\n",
      "E  1  1  1  0  0\n"
     ]
    }
   ],
   "source": [
    "# part c - take a look (RUN THIS CELL AS IS)\n",
    "TOY_ADJ_MATR = get_adj_matr(TOY_GRAPH)\n",
    "print(TOY_ADJ_MATR)"
   ]
  },
  {
   "cell_type": "code",
   "execution_count": 50,
   "metadata": {},
   "outputs": [],
   "source": [
    "# part d - adjacency list function\n",
    "def get_adj_list(graph):\n",
    "    \"\"\"\n",
    "    Function to create an adjacency list representation of a graph.\n",
    "    arg:\n",
    "        graph - (dict) of 'nodes' : [], 'edges' : []\n",
    "    returns:\n",
    "        dictionary of the form {node : [list of edges]}\n",
    "    \"\"\"\n",
    "    adj_list = {node: [] for node in graph['nodes']}\n",
    "    ############### YOUR CODE HERE ##################\n",
    "    \n",
    "    for node in graph['nodes']:\n",
    "        for edge in graph['edges']:\n",
    "            # Check edge is for current node\n",
    "            if edge[0] == node:\n",
    "                adj_list[node].append(edge[1])\n",
    "    \n",
    "    ############### (END) YOUR CODE #################\n",
    "    return adj_list"
   ]
  },
  {
   "cell_type": "code",
   "execution_count": 51,
   "metadata": {},
   "outputs": [
    {
     "name": "stdout",
     "output_type": "stream",
     "text": [
      "{'A': ['B', 'D'], 'B': ['C', 'E'], 'C': ['D'], 'D': ['E'], 'E': ['A', 'B', 'C']}\n"
     ]
    }
   ],
   "source": [
    "# part d - take a look (RUN THIS CELL AS IS)\n",
    "TOY_ADJ_LIST = get_adj_list(TOY_GRAPH)\n",
    "print(TOY_ADJ_LIST)"
   ]
  },
  {
   "cell_type": "markdown",
   "metadata": {},
   "source": [
    "# Question 3: Markov Chains and Random Walks\n",
    "\n",
    "As you know from your readings and in class discussions, the PageRank algorithm takes advantage of the machinery of Markov Chains to compute the relative importance of a webpage using the hyperlink structure of the web (we'll refer to this as the 'web-graph'). A Markov Chain is a discrete-time stochastic process. The stochastic matrix has a principal left eigen vector corresponding to its largest eigen value which is one. A Markov chain's probability distribution over its states may be viewed as a probability vector. This steady state probability for a state is the PageRank of the corresponding webpage. In this question we'll briefly discuss a few concepts that are key to understanding the math behind PageRank. \n",
    "\n",
    "### Q3 Tasks:\n",
    "\n",
    "* __a) short response:__ It is common to explain PageRank using the analogy of a web surfer who clicks on links at random ad infinitum. In the context of this hypothetical infinite random walk, what does the PageRank metric measure/represent?\n",
    "\n",
    "* __b) short response:__ What is the \"Markov Property\" and what does it mean in the context of PageRank?\n",
    "\n",
    "* __c) short response:__ A Markov chain consists of $n$ states plus an $n\\times n$ transition probability matrix. In the context of PageRank & a random walk over the WebGraph what are the $n$ states? what implications does this have about the size of the transition matrix?\n",
    "\n",
    "* __d) code + short response:__ What is a \"right stochastic matrix\"? Fill in the code below to compute the transition matrix for the toy graph from question 2. [__`HINT:`__ _It should be right stochastic. Using numpy this calculation can be done in one line of code._]\n",
    "\n",
    "* __e) code + short response:__ To compute the stable state distribution (i.e. PageRank) of a \"nice\" graph we can apply the power iteration method - repeatedly multiplying the transition matrix by itself, until the values no longer change. Apply this strategy to your transition matrix from `part d` to find the PageRank for each of the pages in your toy graph. Your code should print the results of each iteration. How many iterations does it take to converge? Which node is most 'central' (i.e. highest ranked)? Does this match your intuition? \n",
    "    * __`NOTE 1:`__ _this is a naive approach, we'll unpack what it means to be \"nice\" in the next question_.\n",
    "    * __`NOTE 2:`__ _no need to implement a stopping criteria, visual inspection should suffice_.\n",
    "    \n",
    "    \n",
    "    \n",
    "### The Power Method Algorithm\n",
    "```\n",
    "initial approximation - random unit vector x0\n",
    "# xInit = np.random.rand(transition_matrix.shape[1])\n",
    "x1=Ax0\n",
    "x2=AAx0=A2x0\n",
    "x3=AAAx0=A3x0\n",
    "...\n",
    "until converges\n",
    "```\n",
    "For large powers of k, we will obrain a good approximation of the dominant eigenvector  \n",
    "http://mlwiki.org/index.php/Power_Iteration"
   ]
  },
  {
   "cell_type": "markdown",
   "metadata": {},
   "source": [
    "### Q3 Student Answers:\n",
    "> __a)__ In the random walk/surfer example, the PageRank metric for each node measures the visit rate over an extended period of time (i.e. ad infinitum).  The sum of PageRank metrics for all nodes should sum to 1 as they represent probabilities.  More generally, PageRank is a probability distribution over graph nodes representing the likelihood that a random walk over the graph will arrive at a particular node.\n",
    "\n",
    "> __b)__ The Markov Property is present when the next state depends only one the current state, and has no reliance on any previous states (e.g. stateless).  In PageRank, it means that the random surfer/walker should be able to move to the next node without any need to reference their past traversed nodes.\n",
    "\n",
    "> __c)__ The n states are in the random walk over the WebGraph example represent a website that the user is currently visiting.  The relation between the n states (i.e. websites) and the size of the transition matrix is squared since the transition matrix's size is n x n, or n^2.  \n",
    "\n",
    "> __d)__ A right stochastic matrix is a real non-negative valued square matrix where each row's values sum to 1.\n",
    "\n",
    "> __e)__ Per Kyle's comment https://ucbischool.slack.com/archives/GF5U13U4C/p1561892917017500, skipping implementation but answered the short response questions.  The most central, or highest ranked, node is E.  This makes sense since E has 3 websites it links to and 2 websites linking to it.  "
   ]
  },
  {
   "cell_type": "code",
   "execution_count": 52,
   "metadata": {},
   "outputs": [
    {
     "data": {
      "text/html": [
       "<div>\n",
       "<style scoped>\n",
       "    .dataframe tbody tr th:only-of-type {\n",
       "        vertical-align: middle;\n",
       "    }\n",
       "\n",
       "    .dataframe tbody tr th {\n",
       "        vertical-align: top;\n",
       "    }\n",
       "\n",
       "    .dataframe thead th {\n",
       "        text-align: right;\n",
       "    }\n",
       "</style>\n",
       "<table border=\"1\" class=\"dataframe\">\n",
       "  <thead>\n",
       "    <tr style=\"text-align: right;\">\n",
       "      <th></th>\n",
       "      <th>A</th>\n",
       "      <th>B</th>\n",
       "      <th>C</th>\n",
       "      <th>D</th>\n",
       "      <th>E</th>\n",
       "    </tr>\n",
       "  </thead>\n",
       "  <tbody>\n",
       "    <tr>\n",
       "      <th>A</th>\n",
       "      <td>0</td>\n",
       "      <td>1</td>\n",
       "      <td>0</td>\n",
       "      <td>1</td>\n",
       "      <td>0</td>\n",
       "    </tr>\n",
       "    <tr>\n",
       "      <th>B</th>\n",
       "      <td>0</td>\n",
       "      <td>0</td>\n",
       "      <td>1</td>\n",
       "      <td>0</td>\n",
       "      <td>1</td>\n",
       "    </tr>\n",
       "    <tr>\n",
       "      <th>C</th>\n",
       "      <td>0</td>\n",
       "      <td>0</td>\n",
       "      <td>0</td>\n",
       "      <td>1</td>\n",
       "      <td>0</td>\n",
       "    </tr>\n",
       "    <tr>\n",
       "      <th>D</th>\n",
       "      <td>0</td>\n",
       "      <td>0</td>\n",
       "      <td>0</td>\n",
       "      <td>0</td>\n",
       "      <td>1</td>\n",
       "    </tr>\n",
       "    <tr>\n",
       "      <th>E</th>\n",
       "      <td>1</td>\n",
       "      <td>1</td>\n",
       "      <td>1</td>\n",
       "      <td>0</td>\n",
       "      <td>0</td>\n",
       "    </tr>\n",
       "  </tbody>\n",
       "</table>\n",
       "</div>"
      ],
      "text/plain": [
       "   A  B  C  D  E\n",
       "A  0  1  0  1  0\n",
       "B  0  0  1  0  1\n",
       "C  0  0  0  1  0\n",
       "D  0  0  0  0  1\n",
       "E  1  1  1  0  0"
      ]
     },
     "execution_count": 52,
     "metadata": {},
     "output_type": "execute_result"
    }
   ],
   "source": [
    "# part d - recall what the adjacency matrix looked like (RUN THIS CELL AS IS)\n",
    "TOY_ADJ_MATR"
   ]
  },
  {
   "cell_type": "code",
   "execution_count": 86,
   "metadata": {},
   "outputs": [
    {
     "name": "stdout",
     "output_type": "stream",
     "text": [
      "          A         B         C    D    E\n",
      "A  0.000000  0.500000  0.000000  0.5  0.0\n",
      "B  0.000000  0.000000  0.500000  0.0  0.5\n",
      "C  0.000000  0.000000  0.000000  1.0  0.0\n",
      "D  0.000000  0.000000  0.000000  0.0  1.0\n",
      "E  0.333333  0.333333  0.333333  0.0  0.0\n"
     ]
    }
   ],
   "source": [
    "# part d - use TOY_ADJ_MATR to create a right stochastic transition matrix for this graph\n",
    "################ YOUR CODE HERE #################\n",
    "\n",
    "transition_matrix = np.divide(TOY_ADJ_MATR, TOY_ADJ_MATR.sum(axis=1)[:, None])\n",
    "\n",
    "################ (END) YOUR CODE #################\n",
    "print(transition_matrix)"
   ]
  },
  {
   "cell_type": "code",
   "execution_count": 148,
   "metadata": {},
   "outputs": [],
   "source": [
    "# part e - compute the steady state using the transition matrix \n",
    "def power_iteration(xInit, tMatrix, nIter, verbose = True):\n",
    "    \"\"\"\n",
    "    Function to perform the specified number of power iteration steps to \n",
    "    compute the steady state probability distribution for the given\n",
    "    transition matrix.\n",
    "    \n",
    "    Args:\n",
    "        xInit     - (n x 1 array) representing inial state\n",
    "        tMatrix  - (n x n array) transition probabilities\n",
    "        nIter     - (int) number of iterations\n",
    "    Returns:\n",
    "        state_vector - (n x 1 array) representing probability \n",
    "                        distribution over states after nSteps.\n",
    "    \n",
    "    NOTE: if the 'verbose' flag is on, your function should print the step\n",
    "    number and the current matrix at each iteration.\n",
    "    \"\"\"\n",
    "    state_vector = None\n",
    "    ################ YOUR CODE HERE #################\n",
    "    \n",
    "    # Note, using power_iteration2 method from 2 cells below with small modifications\n",
    "    b_k = xInit\n",
    "\n",
    "    for ix in range(nIter):\n",
    "        # calculate the matrix-by-vector product Ab\n",
    "        b_k1 = np.dot(np.transpose(tMatrix), b_k)\n",
    "\n",
    "        # calculate the norm\n",
    "        b_k1_norm = np.linalg.norm(b_k1)\n",
    "\n",
    "        # re normalize the vector\n",
    "        b_k = b_k1 / b_k1_norm\n",
    "        if verbose:\n",
    "            print(f'Step {ix}:\\n {b_k}')\n",
    "                \n",
    "    state_vector = b_k\n",
    "    \n",
    "    ################ (END) YOUR CODE #################\n",
    "    return state_vector"
   ]
  },
  {
   "cell_type": "code",
   "execution_count": 133,
   "metadata": {},
   "outputs": [],
   "source": [
    "def eigenvalue(A, v):\n",
    "    Av = A.dot(v)\n",
    "    return v.dot(Av)\n",
    "\n",
    "def power_iteration1(A):\n",
    "    n, d = A.shape\n",
    "\n",
    "    v = np.ones(d) / np.sqrt(d)\n",
    "    ev = eigenvalue(A, v)\n",
    "    count = 0\n",
    "    \n",
    "    while True:\n",
    "        count += 1\n",
    "        Av = A.dot(v)\n",
    "        v_new = Av / np.linalg.norm(Av)\n",
    "\n",
    "        ev_new = eigenvalue(A, v_new)\n",
    "        \n",
    "        if np.abs(ev - ev_new) < 0.00001:\n",
    "            break\n",
    "        \n",
    "        v = v_new\n",
    "        ev = ev_new\n",
    "\n",
    "    return ev_new, v_new, count"
   ]
  },
  {
   "cell_type": "code",
   "execution_count": 134,
   "metadata": {},
   "outputs": [
    {
     "data": {
      "text/plain": [
       "(1.0000153302911787, A    0.221536\n",
       " B    0.332321\n",
       " C    0.387697\n",
       " D    0.498490\n",
       " E    0.664593\n",
       " dtype: float64, 24)"
      ]
     },
     "execution_count": 134,
     "metadata": {},
     "output_type": "execute_result"
    }
   ],
   "source": [
    "power_iteration1(np.transpose(transition_matrix))"
   ]
  },
  {
   "cell_type": "code",
   "execution_count": 135,
   "metadata": {},
   "outputs": [
    {
     "data": {
      "text/plain": [
       "array([0.22153951, 0.33230927, 0.38769414, 0.4984639 , 0.66461853])"
      ]
     },
     "execution_count": 135,
     "metadata": {},
     "output_type": "execute_result"
    }
   ],
   "source": [
    "#!/usr/bin/python\n",
    "\n",
    "import numpy as np\n",
    "\n",
    "def power_iteration2(A, num_simulations):\n",
    "    # Ideally choose a random vector\n",
    "    # To decrease the chance that our vector\n",
    "    # Is orthogonal to the eigenvector\n",
    "    # b_k = np.array([1.0, 0, 0, 0, 0])\n",
    "    b_k = np.random.rand(A.shape[1])\n",
    "\n",
    "    for ix in range(num_simulations):\n",
    "        # calculate the matrix-by-vector product Ab\n",
    "        b_k1 = np.dot(np.transpose(A), b_k)\n",
    "\n",
    "        # calculate the norm\n",
    "        b_k1_norm = np.linalg.norm(b_k1)\n",
    "        # re normalize the vector\n",
    "        b_k = b_k1 / b_k1_norm\n",
    "\n",
    "\n",
    "        #print(f'Step {ix}:\\n {b_k}')\n",
    "    return b_k\n",
    "\n",
    "power_iteration2(transition_matrix, 100)"
   ]
  },
  {
   "cell_type": "code",
   "execution_count": 136,
   "metadata": {},
   "outputs": [],
   "source": [
    "#transition_matrix\n",
    "#[[0, 0.5, 0, 0.5, 0],[0, 0, 0.5, 0, 0.5],[0, 0, 0, 1, 0],[0, 0, 0, 0, 1],[0.33333333, 0.33333333, 0.33333333, 0, 0]]"
   ]
  },
  {
   "cell_type": "code",
   "execution_count": 138,
   "metadata": {},
   "outputs": [
    {
     "name": "stdout",
     "output_type": "stream",
     "text": [
      "[0.2 0.2 0.2 0.2 0.2]\n",
      "[0.21753188 0.32886487 0.38528381 0.4993504  0.66838114]\n",
      "---\n",
      "[0.21753188 0.32886487 0.38528381 0.4993504  0.66838114]\n",
      "---\n",
      "0.21753187534756294\n",
      "---\n",
      "state vector\n"
     ]
    }
   ],
   "source": [
    "# part e - run 10 steps of the power_iteration (RUN THIS CELL AS IS)\n",
    "xInit = np.array([1.0, 0, 0, 0, 0]) # note that this initial state will not affect the convergence states\n",
    "xInit = np.random.rand(transition_matrix.shape[1])\n",
    "xInit = np.ones(transition_matrix.shape[1]) / np.sqrt(transition_matrix.shape[1])\n",
    "xInit = np.ones(transition_matrix.shape[1]) / (transition_matrix.shape[1])\n",
    "print(xInit)\n",
    "states = power_iteration(xInit, transition_matrix, 10, False)\n",
    "print(states)\n",
    "print(\"---\")\n",
    "print(np.transpose(states))\n",
    "print(\"---\")\n",
    "print(states[0])\n",
    "print(\"---\")\n",
    "print(\"state vector\")\n",
    "#np.transpose(states) @ states[0]"
   ]
  },
  {
   "cell_type": "code",
   "execution_count": 139,
   "metadata": {},
   "outputs": [],
   "source": [
    "#Using the Rayleigh quotient, the dominant eigenvalue is:\n",
    "def rayeigh_q(A,x):\n",
    "    return np.dot(A.dot(states[0]),x)/np.dot(x,x)"
   ]
  },
  {
   "cell_type": "code",
   "execution_count": 142,
   "metadata": {},
   "outputs": [],
   "source": [
    "#eigen_V3 = power_iteration(xInit, transition_matrix, 10, False)[0]\n",
    "#rayeigh_q(transition_matrix,eigen_V3)"
   ]
  },
  {
   "cell_type": "code",
   "execution_count": 144,
   "metadata": {},
   "outputs": [],
   "source": [
    "#eigen_V2 = power_iteration2(transition_matrix, 100)\n",
    "#print(rayeigh_q(transition_matrix,eigen_V2))\n",
    "#print(eigenvalue(transition_matrix,eigen_V2))"
   ]
  },
  {
   "cell_type": "code",
   "execution_count": 145,
   "metadata": {},
   "outputs": [],
   "source": [
    "#eigen_V1 = power_iteration1(transition_matrix)[1]\n",
    "#print(rayeigh_q(transition_matrix,eigen_V1))\n",
    "#print(eigenvalue(transition_matrix,eigen_V1))"
   ]
  },
  {
   "cell_type": "markdown",
   "metadata": {},
   "source": [
    "Another good resource: http://ergodic.ugr.es/cphys/LECCIONES/FORTRAN/power_method.pdf"
   ]
  },
  {
   "cell_type": "code",
   "execution_count": 113,
   "metadata": {},
   "outputs": [
    {
     "data": {
      "text/plain": [
       "1.00000001"
      ]
     },
     "execution_count": 113,
     "metadata": {},
     "output_type": "execute_result"
    }
   ],
   "source": [
    "sum(np.array([0.10526316, 0.15789474, 0.18421053, 0.23684211, 0.31578947]))"
   ]
  },
  {
   "cell_type": "code",
   "execution_count": 114,
   "metadata": {},
   "outputs": [
    {
     "data": {
      "text/plain": [
       "2.10462535"
      ]
     },
     "execution_count": 114,
     "metadata": {},
     "output_type": "execute_result"
    }
   ],
   "source": [
    "sum(np.array([0.22153951, 0.33230927, 0.38769414, 0.4984639 , 0.66461853]))"
   ]
  },
  {
   "cell_type": "code",
   "execution_count": 115,
   "metadata": {},
   "outputs": [
    {
     "data": {
      "text/plain": [
       "array([0.10526316, 0.15789474, 0.18421052, 0.23684211, 0.31578947])"
      ]
     },
     "execution_count": 115,
     "metadata": {},
     "output_type": "execute_result"
    }
   ],
   "source": [
    "np.array([0.22153951, 0.33230927, 0.38769414, 0.4984639 , 0.66461853])/2.10462535"
   ]
  },
  {
   "cell_type": "markdown",
   "metadata": {},
   "source": []
  },
  {
   "cell_type": "markdown",
   "metadata": {},
   "source": [
    "__`Expected Output for part e:`__  \n",
    ">Steady State Probabilities:\n",
    "```\n",
    "Node A: 0.10526316  \n",
    "Node B: 0.15789474  \n",
    "Node C: 0.18421053  \n",
    "Node D: 0.23684211  \n",
    "Node E: 0.31578947  \n",
    "```\n",
    "\n",
    "<img src=\"power-method.png\"/>"
   ]
  },
  {
   "cell_type": "markdown",
   "metadata": {},
   "source": [
    "# Question 4: Page Rank Theory\n",
    "\n",
    "Seems easy right? Unfortunately applying this power iteration method directly to the web-graph actually runs into a few problems. In this question we'll tease apart what we meant by a 'nice graph' in Question 3 and highlight key modifications we'll have to make to the web-graph when performing PageRank. To start, we'll look at what goes wrong when we try to repeat our strategy from question 3 on a 'not nice' graph.\n",
    "\n",
    "__`Additional References:`__ http://pi.math.cornell.edu/~mec/Winter2009/RalucaRemus/Lecture3/lecture3.html\n",
    "\n",
    "### Q4 Tasks:\n",
    "\n",
    "* __a) code + short response:__ Run the provided code to create and plot our 'not nice' graph. Fill in the missing code to compute its transition matrix & run the power iteration method from question 3. What is wrong with what you see? [__`HINT:`__ _there is a visible underlying reason that it isn't converging... try adding up the probabilities in the state vector after each iteration._]\n",
    "\n",
    "* __b) short response:__  Identify the dangling node in this 'not nice' graph and explain how this node causes the problem you described in 'a'. How could we modify the transition matrix after each iteration to prevent this problem?\n",
    "\n",
    "* __c) short response:__ What does it mean for a graph to be irreducible? Is the webgraph naturally irreducible? Explain your reasoning briefly.\n",
    "\n",
    "* __d) short response:__ What does it mean for a graph to be aperiodic? Is the webgraph naturally aperiodic? Explain your reasoning briefly.\n",
    "\n",
    "* __e) short response:__ What modification to the webgraph does PageRank make in order to guarantee aperiodicity and irreducibility? Interpret this modification in terms of our random surfer analogy.\n"
   ]
  },
  {
   "cell_type": "markdown",
   "metadata": {},
   "source": [
    "### Q4 Student Answers:\n",
    "> __a)__ The problem with our current algorithm is that we are computing PageRank metrics that do not sum up to 1.  Our resulting values after 10 iterations are [0.00156583 0.70509347 0.00239137 0.50182811 0.50100257] which sums up to 1.72.  Also, the probabilities are increasing and decreasing between each iteration implying that they will not converge.\n",
    "\n",
    "> __b)__ Upon visual inspection of the graph, we see that node E is a dangling node as it has no outbound edges.  Dangling nodes result in lost probability mass, so our graph's probability sum will no longer equal 1 each time we visit the dangling node.  We could modify our transition matrix after each iteration by redistributing the probability mass evenly from the dangling nodes(s) to all other nodes.  \n",
    "\n",
    "> __c)__ A graph is irreducible if there is a path from every node to every other node.  Our webgraph is not naturally irreducible since there is no path to move from node E to any other node.  Node E would need to have at least 1 outbound edge in order for this graph to be considered irreducible.  \n",
    "\n",
    "> __d)__ A graph is aperiodic if the period of all cycle lengths is 1.  Our webgraph is naturally aperiodic since there are no guaranteed cycles present.  One example of a periodic graph would be node A -> B, B -> C, and C -> A in which case the period would be 3.\n",
    "\n",
    "> __e)__ PageRank modifies the webgraph by adding a random probability to visit any website/node in the graph, also known as teleportation.  The transition matrix would be multiplied by 1 - alpha where alpha is the % random chance of teleporting, and then added to a nxn matrix multiplied by alpha with values of 1/n.  In our example, this would mean that our web surfer would always have an alpha chance of visiting any website/node in the graph regardless of which node they are currently at.  \n"
   ]
  },
  {
   "cell_type": "code",
   "execution_count": 116,
   "metadata": {},
   "outputs": [],
   "source": [
    "# part a - run this code to create a second toy graph (RUN THIS CELL AS IS)\n",
    "TOY2_GRAPH = {'nodes':['A', 'B', 'C', 'D', 'E'],\n",
    "              'edges':[('A', 'B'), ('A', 'C'), ('A', 'D'), ('B', 'D'), \n",
    "                       ('B', 'E'), ('C', 'A'), ('C', 'E'), ('D', 'B')]}"
   ]
  },
  {
   "cell_type": "code",
   "execution_count": 117,
   "metadata": {},
   "outputs": [
    {
     "data": {
      "image/png": "[encoded data removed]",
      "text/plain": [
       "<Figure size 432x288 with 1 Axes>"
      ]
     },
     "metadata": {},
     "output_type": "display_data"
    }
   ],
   "source": [
    "# part a - simple visualization of our test graph using nx (RUN THIS CELL AS IS)\n",
    "G = nx.DiGraph()\n",
    "G.add_nodes_from(TOY2_GRAPH['nodes'])\n",
    "G.add_edges_from(TOY2_GRAPH['edges'])\n",
    "nx.draw(G, pos=nx.circular_layout(G), with_labels=True, alpha = 0.5)"
   ]
  },
  {
   "cell_type": "code",
   "execution_count": 163,
   "metadata": {},
   "outputs": [
    {
     "name": "stdout",
     "output_type": "stream",
     "text": [
      "Step 0:\n",
      " [0.15968885 0.89282864 0.14490591 0.27211657 0.28689951]\n",
      "Step 1:\n",
      " [0.09107995 0.40898972 0.06691447 0.62809783 0.65226331]\n",
      "Step 2:\n",
      " [0.04522132 0.88998193 0.04103503 0.3174335  0.32161979]\n",
      "Step 3:\n",
      " [0.027932   0.45266662 0.02052104 0.62631998 0.63373094]\n",
      "Step 4:\n",
      " [0.01428766 0.88510863 0.012965   0.32813162 0.32945428]\n",
      "Step 5:\n",
      " [0.00905418 0.46495701 0.00665191 0.62477245 0.62717472]\n",
      "Step 6:\n",
      " [0.00467933 0.88324581 0.00424614 0.33132287 0.33175605]\n",
      "Step 7:\n",
      " [0.00299013 0.46883058 0.00219678 0.62417671 0.62497005]\n",
      "Step 8:\n",
      " [0.00155068 0.88260358 0.00140713 0.33234854 0.33249209]\n",
      "Step 9:\n",
      " [0.00099363 0.47009798 0.00073    0.62397007 0.6242337 ]\n",
      "Probability Sum: 1.7200253784887816\n"
     ]
    }
   ],
   "source": [
    "# part a - run 10 steps of the power iteration method here\n",
    "# HINT: feel free to use the functions get_adj_matr() and power_iteration() you wrote above\n",
    "################ YOUR CODE HERE #################\n",
    "\n",
    "TOY2_ADJ_MATR = get_adj_matr(TOY2_GRAPH)\n",
    "\n",
    "# Node E has no outbound edges, so division by 0 occurs... Replacing value with 1 to maintain 0 values in row\n",
    "row_sums = TOY2_ADJ_MATR.sum(axis=1)[:, None]\n",
    "row_sums[4] = 1\n",
    "\n",
    "transition_matrix2 = np.divide(TOY2_ADJ_MATR, row_sums)\n",
    "\n",
    "probabilities = power_iteration(np.random.rand(transition_matrix2.shape[1]), transition_matrix2, 10, verbose=True)\n",
    "print(f\"Probability Sum: {np.sum(probabilities)}\")\n",
    "\n",
    "################ (END) YOUR CODE #################"
   ]
  },
  {
   "cell_type": "markdown",
   "metadata": {},
   "source": [
    "# About the Data\n",
    "The main dataset for this data consists of a subset of a 500GB dataset released by AWS in 2009. The data includes the source and metadata for all of the Wikimedia wikis. You can read more here: \n",
    "> https://aws.amazon.com/blogs/aws/new-public-data-set-wikipedia-xml-data. \n",
    "\n",
    "As in previous homeworks we'll be using a 2GB subset of this data, which is available to you in this dropbox folder: \n",
    "> https://www.dropbox.com/sh/2c0k5adwz36lkcw/AAAAKsjQfF9uHfv-X9mCqr9wa?dl=0. \n",
    "\n",
    "Use the cells below to download the wikipedia data and a test file for use in developing your PageRank implementation(note that we'll use the 'indexed out' version of the graph) and to take a look at the files."
   ]
  },
  {
   "cell_type": "code",
   "execution_count": 118,
   "metadata": {},
   "outputs": [],
   "source": [
    "# create a data directory (RUN THIS CELL AS IS)\n",
    "!mkdir data"
   ]
  },
  {
   "cell_type": "code",
   "execution_count": 119,
   "metadata": {},
   "outputs": [],
   "source": [
    "# download the test data set (RUN THIS CELL AS IS)\n",
    "!wget -q -O data/test_graph.txt https://www.dropbox.com/sh/2c0k5adwz36lkcw/AACf_33TeM7rKfEhjEoNmMCaa/PageRank-test_indexed.txt?dl=0"
   ]
  },
  {
   "cell_type": "code",
   "execution_count": 120,
   "metadata": {},
   "outputs": [
    {
     "name": "stdout",
     "output_type": "stream",
     "text": [
      "2\t{'3': 1}\n",
      "3\t{'2': 1}\n",
      "4\t{'1': 1, '2': 1}\n",
      "5\t{'4': 1, '2': 1, '6': 1}\n",
      "6\t{'2': 1, '5': 1}\n",
      "7\t{'2': 1, '5': 1}\n",
      "8\t{'2': 1, '5': 1}\n",
      "9\t{'2': 1, '5': 1}\n",
      "10\t{'5': 1}\n",
      "11\t{'5': 1}\n"
     ]
    }
   ],
   "source": [
    "# take a look\n",
    "!cat data/test_graph.txt"
   ]
  },
  {
   "cell_type": "code",
   "execution_count": 121,
   "metadata": {},
   "outputs": [
    {
     "name": "stdout",
     "output_type": "stream",
     "text": [
      "--2019-07-13 21:49:53--  https://www.dropbox.com/sh/2c0k5adwz36lkcw/AAAD7I_6kQlJtDpXZPhCfVH-a/wikipedia/all-pages-indexed-out.txt?dl=0\n",
      "Resolving www.dropbox.com... 162.125.1.1, 2620:100:6016:1::a27d:101\n",
      "Connecting to www.dropbox.com|162.125.1.1|:443... connected.\n",
      "HTTP request sent, awaiting response... 301 Moved Permanently\n",
      "Location: /sh/raw/2c0k5adwz36lkcw/AAAD7I_6kQlJtDpXZPhCfVH-a/wikipedia/all-pages-indexed-out.txt [following]\n",
      "--2019-07-13 21:49:53--  https://www.dropbox.com/sh/raw/2c0k5adwz36lkcw/AAAD7I_6kQlJtDpXZPhCfVH-a/wikipedia/all-pages-indexed-out.txt\n",
      "Reusing existing connection to www.dropbox.com:443.\n",
      "HTTP request sent, awaiting response... 302 Found\n",
      "Location: https://uc94e23fa6c1e298835a7a1ed46b.dl.dropboxusercontent.com/cd/0/inline/AkorhNy0B_M53_zZv-J7UDeo8tnHhtoOJyN6LAbi0hJhs18VmRkFhXF6sgirm2KK4ITrU57CVpJ578U8oqs2e3QKDk1P70KAnBcWZ_0Kb5J8yg/file# [following]\n",
      "--2019-07-13 21:49:53--  https://uc94e23fa6c1e298835a7a1ed46b.dl.dropboxusercontent.com/cd/0/inline/AkorhNy0B_M53_zZv-J7UDeo8tnHhtoOJyN6LAbi0hJhs18VmRkFhXF6sgirm2KK4ITrU57CVpJ578U8oqs2e3QKDk1P70KAnBcWZ_0Kb5J8yg/file\n",
      "Resolving uc94e23fa6c1e298835a7a1ed46b.dl.dropboxusercontent.com... 162.125.1.6, 2620:100:6016:6::a27d:106\n",
      "Connecting to uc94e23fa6c1e298835a7a1ed46b.dl.dropboxusercontent.com|162.125.1.6|:443... connected.\n",
      "HTTP request sent, awaiting response... 200 OK\n",
      "Length: 2090459616 (1.9G) [text/plain]\n",
      "Saving to: `data/wiki_graph.txt'\n",
      "\n",
      "100%[====================================>] 2,090,459,616 5.80M/s   in 5m 54s  \n",
      "\n",
      "2019-07-13 21:55:47 (5.64 MB/s) - `data/wiki_graph.txt' saved [2090459616/2090459616]\n",
      "\n"
     ]
    }
   ],
   "source": [
    "# download the main data set - this may take a little time (RUN THIS CELL AS IS)\n",
    "!wget -O data/wiki_graph.txt https://www.dropbox.com/sh/2c0k5adwz36lkcw/AAAD7I_6kQlJtDpXZPhCfVH-a/wikipedia/all-pages-indexed-out.txt?dl=0"
   ]
  },
  {
   "cell_type": "code",
   "execution_count": 122,
   "metadata": {},
   "outputs": [
    {
     "name": "stdout",
     "output_type": "stream",
     "text": [
      "73\t{'14417532': 1}\n",
      "299\t{'4214575': 1}\n",
      "2552\t{'15043376': 1, '13430968': 1, '13451035': 1, '7263397': 1, '13001625': 1, '13443575': 1, '13451269': 1, '13432316': 1, '11623371': 1, '15028971': 1, '13425865': 1, '15042703': 1, '5051368': 1, '9854998': 2, '13442976': 1, '13315025': 1, '2992307': 1, '1054486': 1, '1322325': 1, '13450983': 1}\n",
      "2570\t{'983991': 1}\n",
      "2616\t{'9045350': 1}\n",
      "2711\t{'752887': 1}\n",
      "2818\t{'3534183': 1}\n",
      "2847\t{'3797918': 1}\n",
      "2892\t{'2893': 1}\n",
      "2921\t{'5158607': 1, '6007184': 1, '14773825': 1, '11777840': 2, '9285165': 1, '6420484': 1, '14670682': 1, '7316613': 1, '7125893': 1, '14965920': 1, '14229952': 1, '9447742': 2, '1425342': 1, '11390944': 2, '5141': 1, '14928135': 2, '13636570': 3, '14687433': 1, '15105458': 1, '11656072': 1, '6420027': 1, '10898196': 1, '6416278': 1, '11497740': 2}\n"
     ]
    }
   ],
   "source": [
    "# take a look (RUN THIS CELL AS IS)\n",
    "!head data/wiki_graph.txt"
   ]
  },
  {
   "cell_type": "code",
   "execution_count": 123,
   "metadata": {},
   "outputs": [],
   "source": [
    "# download the indexes (RUN THIS CELL AS IS)\n",
    "!wget -q -O data/indices.txt https://www.dropbox.com/sh/2c0k5adwz36lkcw/AADSYhyRXbgebRDy6ALl6O1ca/wikipedia/indices.txt?dl=0"
   ]
  },
  {
   "cell_type": "code",
   "execution_count": 124,
   "metadata": {},
   "outputs": [
    {
     "name": "stdout",
     "output_type": "stream",
     "text": [
      "! $var = &quot;&quot;\t1\t1\t0\n",
      "! (CONFIG.SYS directive)\t2\t1\t1\n",
      "! (album)\t3\t12\t17\n",
      "! (disambiguation)\t4\t1\t20\n",
      "! -attention-\t5\t1\t0\n",
      "! Time Zone\t6\t1\t0\n",
      "!! (chess)\t7\t0\t1\n",
      "!! (disambiguation)\t8\t3\t0\n",
      "!!! (Chk Chk Chk)\t9\t1\t0\n",
      "!!! (album)\t10\t5\t15\n"
     ]
    }
   ],
   "source": [
    "# take a look (RUN THIS CELL AS IS)\n",
    "# You will need this file for the extra credit questions.\n",
    "!head data/indices.txt"
   ]
  },
  {
   "cell_type": "code",
   "execution_count": 13,
   "metadata": {},
   "outputs": [],
   "source": [
    "# load the data into Spark RDDs for convenience of use later (RUN THIS CELL AS IS)\n",
    "testRDD = sc.textFile('data/test_graph.txt')\n",
    "indexRDD = sc.textFile('data/indices.txt')\n",
    "wikiRDD = sc.textFile('data/wiki_graph.txt')"
   ]
  },
  {
   "cell_type": "markdown",
   "metadata": {},
   "source": [
    "# Question 5: EDA part 1 (number of nodes)\n",
    "\n",
    "As usual, before we dive in to the main analysis, we'll peform some exploratory data anlysis to understand our dataset. Please use the test graph that you downloaded to test all your code before running the full dataset.\n",
    "\n",
    "### Q5 Tasks:\n",
    "* __a) short response:__ In what format is the raw data? What does the first value represent? What does the second part of each line represent? [__`HINT:`__ _no need to go digging here, just visually inspect the outputs of the head commands that we ran after loading the data above._]\n",
    "\n",
    "* __b) code + short response:__ Run the provided bash command to count the number of records in the raw dataset. Explain why this is _not_ the same as the number of total nodes in the graph.\n",
    "\n",
    "* __c) code:__ In the space provided below write a Spark job to count the _total number_ of nodes in this graph. \n",
    "\n",
    "* __d) short response:__ How many dangling nodes are there in this wikipedia graph? [__`HINT:`__ _you should not need any code to answer this question._]"
   ]
  },
  {
   "cell_type": "markdown",
   "metadata": {},
   "source": [
    "### Q5 Student Answers:\n",
    "> __a)__ The raw data is in TSV format.  The first value represents the wikipage ID.  The second part of each line is JSON and represents the wikipages that the current wikipage hyperlinks to and a weight value.  Moreover, this raw data appears to be an adjacency list for all of the wikipages.\n",
    "\n",
    "> __b)__ This number represents the total number of wikipages that have outgoing hyperlinks.  There may, and likely are, wikipages that only have incoming hyperlinks without any outgoing ones which would not represented in this number.  These types of nodes I described are dangling wikipages.  \n",
    "\n",
    "> __d)__ There are 15,192,277 - 5,781,290 = 9,410,987 dangling nodes in this wikipedia graph.\n"
   ]
  },
  {
   "cell_type": "code",
   "execution_count": 6,
   "metadata": {},
   "outputs": [
    {
     "name": "stdout",
     "output_type": "stream",
     "text": [
      "5781290 data/wiki_graph.txt\n"
     ]
    }
   ],
   "source": [
    "# part b - count the number of records in the raw data (RUN THIS CELL AS IS)\n",
    "!wc -l data/wiki_graph.txt"
   ]
  },
  {
   "cell_type": "code",
   "execution_count": 7,
   "metadata": {},
   "outputs": [],
   "source": [
    "# part c - write your Spark job here (compute total number of nodes)\n",
    "def count_nodes(dataRDD):\n",
    "    \"\"\"\n",
    "    Spark job to count the total number of nodes.\n",
    "    Returns: integer count \n",
    "    \"\"\"    \n",
    "    ############## YOUR CODE HERE ###############\n",
    "\n",
    "    def parse_line(line):\n",
    "        source_node, edge_nodes = line.split('\\t')\n",
    "        \n",
    "        yield int(source_node)\n",
    "        \n",
    "        for edge in ast.literal_eval(edge_nodes).keys():\n",
    "            yield int(edge)\n",
    "    \n",
    "    totalCount = dataRDD.flatMap(parse_line).distinct().count()\n",
    "    \n",
    "    ############## (END) YOUR CODE ###############   \n",
    "    return totalCount"
   ]
  },
  {
   "cell_type": "code",
   "execution_count": 8,
   "metadata": {},
   "outputs": [
    {
     "name": "stdout",
     "output_type": "stream",
     "text": [
      "... completed job in 6.7732932567596436 seconds.\n",
      "Total Nodes: 11\n"
     ]
    }
   ],
   "source": [
    "# part c - run your counting job on the test file (RUN THIS CELL AS IS)\n",
    "start = time.time()\n",
    "tot = count_nodes(testRDD)\n",
    "print(f'... completed job in {time.time() - start} seconds.')\n",
    "print(f'Total Nodes: {tot}')"
   ]
  },
  {
   "cell_type": "code",
   "execution_count": 9,
   "metadata": {},
   "outputs": [
    {
     "name": "stdout",
     "output_type": "stream",
     "text": [
      "... completed job in 397.0445325374603 seconds.\n",
      "Total Nodes: 15192277\n"
     ]
    }
   ],
   "source": [
    "# part c - run your counting job on the full file (RUN THIS CELL AS IS)\n",
    "start = time.time()\n",
    "tot = count_nodes(wikiRDD)\n",
    "print(f'... completed job in {time.time() - start} seconds.')\n",
    "print(f'Total Nodes: {tot}')"
   ]
  },
  {
   "cell_type": "markdown",
   "metadata": {},
   "source": [
    "# Question 6 - EDA part 2 (out-degree distribution)\n",
    "\n",
    "As you've seen in previous homeworks the computational complexity of an implementation depends not only on the number of records in the original dataset but also on the number of records we create and shuffle in our intermediate representation of the data. The number of intermediate records required to update PageRank is related to the number of edges in the graph. In this question you'll compute the average number of hyperlinks on each page in this data and visualize a distribution for these counts (the out-degree of the nodes). \n",
    "\n",
    "### Q6 Tasks:\n",
    "* __a) code:__ In the space provided below write a Spark job to stream over the data and compute all of the following information:\n",
    " * count the out-degree of each non-dangling node and return the names of the top 10 pages with the most hyperlinks\n",
    " * find the average out-degree for all non-dangling nodes in the graph\n",
    " * take a 1000 point sample of these out-degree counts and plot a histogram of the result. \n",
    " \n",
    " \n",
    "* __b) short response:__ In the context of the PageRank algorithm, how is information about a node's out degree used?\n",
    "\n",
    "* __c) short response:__ What does it mean if a node's out-degree is 0? In PageRank how will we handle these nodes differently than others?\n",
    " \n",
    "__`NOTE:`__ Please observe scalability best practices in the design of your code & comment your work clearly. You will be graded on both the clarity and the design."
   ]
  },
  {
   "cell_type": "markdown",
   "metadata": {},
   "source": [
    "### Q6 Student Answers:\n",
    "\n",
    "> __b)__ The PageRank algorithm ranks (i.e. a value between 0-1) a node more highly with each incoming edge from other nodes during the steady-state probability vector calculation.   Each node's out-degree edges are used for determining the rank of other nodes.  \n",
    "\n",
    "> __c)__ If a node's out-degree is 0, then it means that it is a Dangling Node.  In PageRank, these types of nodes have their probability mass redistributed evenly across all other nodes when they are encountered.  This step is necessary in order to conserve the total PageRank probability mass.  "
   ]
  },
  {
   "cell_type": "code",
   "execution_count": 45,
   "metadata": {},
   "outputs": [],
   "source": [
    "# part a - write your Spark job here (compute average in-degree, etc)\n",
    "def count_degree(dataRDD, n):\n",
    "    \"\"\"\n",
    "    Function to analyze out-degree of nodes in a a graph.\n",
    "    Returns: \n",
    "        top  - (list of 10 tuples) nodes with most edges\n",
    "        avgDegree - (float) average out-degree for non-dangling nodes\n",
    "        sampledCounts - (list of integers) out-degree for n randomly sampled non-dangling nodes\n",
    "    \"\"\"\n",
    "    # helper func\n",
    "    def parse(line):\n",
    "        node, edges = line.split('\\t')\n",
    "        return (node, ast.literal_eval(edges))\n",
    "    \n",
    "    ############## YOUR CODE HERE ###############\n",
    "\n",
    "    # Parses each line and uses the values of the edge hash for determining the out-degree value\n",
    "    def parse_line(line):\n",
    "        source_node, edge_nodes = line.split('\\t')\n",
    "                \n",
    "        weighted_edge_count = sum(ast.literal_eval(edge_nodes).values())\n",
    "            \n",
    "        yield (int(source_node), weighted_edge_count)\n",
    "\n",
    "    # Cache RDD that will be used multiple times\n",
    "    parsed_rdd = dataRDD.flatMap(parse_line).cache()\n",
    "    \n",
    "    # Retrieve top 10 records by out-degree count\n",
    "    top = parsed_rdd.takeOrdered(10, key=lambda x: -x[1]) \n",
    "    \n",
    "    # Calculate avg. out degree for non-dangling nodes\n",
    "    total_out_degree = parsed_rdd.values().sum()\n",
    "    out_degree_node_count = dataRDD.count()\n",
    "    avgDegree = float(total_out_degree/out_degree_node_count)\n",
    "   \n",
    "    # Random N sample from RDD\n",
    "    sampledCounts = parsed_rdd.values().takeSample(False, n)\n",
    "    \n",
    "    ############## (END) YOUR CODE ###############\n",
    "    \n",
    "    return top, avgDegree, sampledCounts"
   ]
  },
  {
   "cell_type": "code",
   "execution_count": 46,
   "metadata": {},
   "outputs": [
    {
     "name": "stdout",
     "output_type": "stream",
     "text": [
      "... completed job in 0.8998534679412842 seconds\n",
      "Average out-degree:  1.7\n",
      "Top 10 nodes (by out-degree:)\n",
      " [(5, 3), (4, 2), (6, 2), (7, 2), (8, 2), (9, 2), (2, 1), (3, 1), (10, 1), (11, 1)]\n"
     ]
    },
    {
     "data": {
      "image/png": "[encoded data removed]",
      "text/plain": [
       "<Figure size 432x288 with 1 Axes>"
      ]
     },
     "metadata": {},
     "output_type": "display_data"
    }
   ],
   "source": [
    "# part a - run your job on the test file (RUN THIS CELL AS IS)\n",
    "start = time.time()\n",
    "test_results = count_degree(testRDD,10)\n",
    "print(f\"... completed job in {time.time() - start} seconds\")\n",
    "print(\"Average out-degree: \", test_results[1])\n",
    "print(\"Top 10 nodes (by out-degree:)\\n\", test_results[0])\n",
    "plt.hist(test_results[2], bins=10)\n",
    "plt.title(\"Distribution of Out-Degree\")\n",
    "plt.show()"
   ]
  },
  {
   "cell_type": "code",
   "execution_count": 47,
   "metadata": {},
   "outputs": [
    {
     "name": "stdout",
     "output_type": "stream",
     "text": [
      "... completed job in 280.8073208332062 seconds\n",
      "Average out-degree:  32.04181575392343\n",
      "Top 10 nodes (by out-degree:)\n",
      " [(7804599, 9347), (7858931, 8910), (11185362, 8837), (7705822, 8142), (5760310, 7649), (7865920, 7608), (7819767, 7278), (7883280, 7231), (13035895, 7126), (7880980, 6904)]\n"
     ]
    },
    {
     "data": {
      "image/png": "[encoded data removed]",
      "text/plain": [
       "<Figure size 432x288 with 1 Axes>"
      ]
     },
     "metadata": {},
     "output_type": "display_data"
    }
   ],
   "source": [
    "# part a - run your job on the full file (RUN THIS CELL AS IS)\n",
    "start = time.time()\n",
    "full_results = count_degree(wikiRDD,1000)\n",
    "print(f\"... completed job in {time.time() - start} seconds\")\n",
    "print(\"Average out-degree: \", full_results[1])\n",
    "print(\"Top 10 nodes (by out-degree:)\\n\", full_results[0])\n",
    "plt.hist(full_results[2], bins=50)\n",
    "plt.title(\"Distribution of Out-Degree\")\n",
    "plt.show()"
   ]
  },
  {
   "cell_type": "markdown",
   "metadata": {},
   "source": [
    "# Question 7 - PageRank part 1 (Initialize the Graph)\n",
    "\n",
    "One of the challenges of performing distributed graph computation is that you must pass the entire graph structure through each iteration of your algorithm. As usual, we seek to design our computation so that as much work as possible can be done using the contents of a single record. In the case of PageRank, we'll need each record to include a node, its list of neighbors and its (current) rank. In this question you'll initialize the graph by creating a record for each dangling node and by setting the initial rank to 1/N for all nodes. \n",
    "\n",
    "__`NOTE:`__ Your solution should _not_ hard code $N$.\n",
    "\n",
    "### Q7 Tasks:\n",
    "* __a) short response:__ What is $N$? Use the analogy of the infinite random web-surfer to explain why we'll initialize each node's rank to $\\frac{1}{N}$. (i.e. what is the probabilistic interpretation of this choice?)\n",
    "\n",
    "* __b) short response:__ Will it be more efficient to compute $N$ before initializing records for each dangling node or after? Explain your reasoning.\n",
    "\n",
    "* __c) code:__ Fill in the missing code below to create a Spark job that:\n",
    "  * parses each input record\n",
    "  * creates a new record for any dangling nodes and sets it list of neighbors to be an empty set\n",
    "  * initializes a rank of 1/N for each node\n",
    "  * returns a pair RDD with records in the format specified by the docstring\n",
    "\n",
    "\n",
    "* __d) code:__ Run the provided code to confirm that your job in `part a` has a record for each node and that your should records match the format specified in the docstring and the count should match what you computed in question 5. [__`TIP:`__ _you might want to take a moment to write out what the expected output should be fore the test graph, this will help you know your code works as expected_]\n",
    " \n",
    "__`NOTE:`__ Please observe scalability best practices in the design of your code & comment your work clearly. You will be graded on both the clarity and the design."
   ]
  },
  {
   "cell_type": "markdown",
   "metadata": {},
   "source": [
    "### Q7 Student Answers:\n",
    "\n",
    "> __a)__ N is the total number of nodes in the graph.  We initialize each node's rank to 1/N so that the random web-surfer initially is equally likely to visit any website in the webgraph.  More concretely in probabilistic terms, the random web-surfer has the same probability to visit any  node in the graph.  \n",
    "\n",
    "> __b)__ It would be more efficient to compute N before initializing records for each dangling node.  Computing N before results in a Map -> Reduce -> Calculate Count -> Map to compute final probabilities while computing N afters results in a Map -> Reduce -> Map to create initial Record -> Calculate Count -> Map to add probability.  Thus, we avoid an extra Map execution by computing N before initializing the records.  "
   ]
  },
  {
   "cell_type": "code",
   "execution_count": 14,
   "metadata": {},
   "outputs": [],
   "source": [
    "# part c - job to initialize the graph (RUN THIS CELL AS IS)\n",
    "def initGraph(dataRDD):\n",
    "    \"\"\"\n",
    "    Spark job to read in the raw data and initialize an \n",
    "    adjacency list representation with a record for each\n",
    "    node (including dangling nodes).\n",
    "    \n",
    "    Returns: \n",
    "        graphRDD -  a pair RDD of (node_id , (score, edges))\n",
    "        \n",
    "    NOTE: The score should be a float, but you may want to be \n",
    "    strategic about how format the edges... there are a few \n",
    "    options that can work. Make sure that whatever you choose\n",
    "    is sufficient for Question 8 where you'll run PageRank.\n",
    "    \"\"\"\n",
    "    ############## YOUR CODE HERE ###############\n",
    "\n",
    "    # write any helper functions here\n",
    "    # Produces (node_id , (score, edges)) records\n",
    "    def create_records(line):\n",
    "        source_node, edges = line\n",
    "        \n",
    "        if len(edges) >= 1:\n",
    "            # Reconstructs edge hash from custom comma-delimited string\n",
    "            edge_strings = edges.split(',')\n",
    "            edge_hash = {}\n",
    "            for edge_weight in edge_strings:\n",
    "                # Each node and its weight are seperated by a dash\n",
    "                split = edge_weight.split('-')\n",
    "                edge_hash[split[0]] = split[1] \n",
    "\n",
    "            yield (source_node, (1/node_count_b.value, edge_hash))\n",
    "        \n",
    "        # Output for Dangling Node\n",
    "        else:\n",
    "            yield (source_node, (1/node_count_b.value, {}))\n",
    "            \n",
    "    # Produces records with a Node ID as the Key and an edges hash as the value\n",
    "    def parse_edge_hashes(line):\n",
    "        source_node, edge_nodes = line.split('\\t')\n",
    "        \n",
    "        edges = ast.literal_eval(edge_nodes)\n",
    "        \n",
    "        # Tried using a Hash directly, but this seemed to cause memory errors... Using a complex string object to conserve memory usage\n",
    "        edge_dash = ''\n",
    "        for key, value in edges.items():\n",
    "            edge_dash += f\"{key}-{value},\"\n",
    "        edge_dash = edge_dash[:-1]\n",
    "            \n",
    "        yield (int(source_node), edge_dash)\n",
    "        \n",
    "        for edge in edges.keys():\n",
    "            yield (int(edge), '')\n",
    "    \n",
    "    # Combines 2 strings into 1 string\n",
    "    def reduce_strings(x,y):\n",
    "        combined = f\"{x},{y}\"\n",
    "        \n",
    "        # Removes tailing and starting commas resulting from one record being empty string\n",
    "        if combined[-1] == ',':\n",
    "            combined = combined[:-1]\n",
    "        elif combined[0] == ',':\n",
    "            combined = combined[1:]\n",
    "            \n",
    "        return combined\n",
    "            \n",
    "    # write your main Spark code here    \n",
    "    \n",
    "    # Create RDD with records of (SourceNodeId, EdgesHash)\n",
    "    node_edges_rdd = dataRDD.flatMap(parse_edge_hashes).reduceByKey(reduce_strings).cache()\n",
    "\n",
    "    # Count total # of nodes\n",
    "    node_count = node_edges_rdd.count()\n",
    "    node_count_b = sc.broadcast(node_count)\n",
    "\n",
    "    # Compute probabilities and populate resulting RDD\n",
    "    graphRDD = node_edges_rdd.flatMap(create_records)\n",
    "    \n",
    "    ############## (END) YOUR CODE ##############\n",
    "    \n",
    "    return graphRDD\n"
   ]
  },
  {
   "cell_type": "code",
   "execution_count": 7,
   "metadata": {},
   "outputs": [
    {
     "name": "stdout",
     "output_type": "stream",
     "text": [
      "... test graph initialized in 4.697785377502441 seconds.\n"
     ]
    },
    {
     "data": {
      "text/plain": [
       "[(2, (0.09090909090909091, {'3': '1'})),\n",
       " (4, (0.09090909090909091, {'1': '1', '2': '1'})),\n",
       " (6, (0.09090909090909091, {'2': '1', '5': '1'})),\n",
       " (8, (0.09090909090909091, {'2': '1', '5': '1'})),\n",
       " (10, (0.09090909090909091, {'5': '1'})),\n",
       " (3, (0.09090909090909091, {'2': '1'})),\n",
       " (1, (0.09090909090909091, {})),\n",
       " (5, (0.09090909090909091, {'4': '1', '2': '1', '6': '1'})),\n",
       " (7, (0.09090909090909091, {'2': '1', '5': '1'})),\n",
       " (9, (0.09090909090909091, {'2': '1', '5': '1'})),\n",
       " (11, (0.09090909090909091, {'5': '1'}))]"
      ]
     },
     "execution_count": 7,
     "metadata": {},
     "output_type": "execute_result"
    }
   ],
   "source": [
    "# part c - run your Spark job on the test graph (RUN THIS CELL AS IS)\n",
    "start = time.time()\n",
    "testGraph = initGraph(testRDD).collect()\n",
    "print(f'... test graph initialized in {time.time() - start} seconds.')\n",
    "testGraph"
   ]
  },
  {
   "cell_type": "code",
   "execution_count": 8,
   "metadata": {},
   "outputs": [
    {
     "name": "stdout",
     "output_type": "stream",
     "text": [
      "... full graph initialized in 471.0435199737549 seconds\n"
     ]
    }
   ],
   "source": [
    "# part c - run your code on the main graph (RUN THIS CELL AS IS)\n",
    "start = time.time()\n",
    "wikiGraphRDD = initGraph(wikiRDD)\n",
    "print(f'... full graph initialized in {time.time() - start} seconds')"
   ]
  },
  {
   "cell_type": "code",
   "execution_count": 9,
   "metadata": {},
   "outputs": [
    {
     "name": "stdout",
     "output_type": "stream",
     "text": [
      "Total number of records: 15192277\n",
      "First record: [(13001625, (6.582291778908455e-08, {'8564800': '1', '5649467': '1', '9756532': '1', '498927': '1', '748494': '1', '14869807': '1', '487017': '1', '3972106': '1', '11074154': '1', '8047447': '1', '12685893': '1', '485237': '1', '9534734': '1', '498931': '1', '6958001': '1', '10642532': '1', '9545450': '1', '1212489': '1', '5138969': '1', '9590772': '1', '12846998': '1', '450158': '1', '2423708': '1', '4596477': '1', '9524795': '1', '4597689': '1', '12066216': '1', '862916': '1', '9547123': '1', '6702885': '1', '809931': '1', '476382': '1', '8886661': '1', '4774248': '1', '5283708': '3', '13348542': '1', '13443575': '1', '2029894': '1', '10642520': '2', '460416': '1', '485091': '1', '2466815': '1', '2424232': '1', '3342600': '1', '449773': '1', '13804116': '1', '446777': '1', '476363': '1', '7198313': '1', '4391712': '1', '13953489': '1', '5546448': '1', '12308892': '3', '2029885': '1', '472236': '1', '3141939': '1', '3129286': '1', '809511': '3', '455026': '1', '519055': '1', '1651411': '1', '469197': '1', '9878037': '1', '38680': '2', '811459': '1', '8584233': '1', '13430968': '1', '9949975': '1', '9293913': '1', '7375981': '1', '1433210': '1', '13853369': '1', '7032677': '1', '9551178': '1', '13001655': '1', '472224': '1', '470408': '1', '9544128': '1', '14690138': '1', '9157842': '1', '8251502': '1', '11556800': '1', '13431404': '1', '13327516': '1', '9675521': '1', '10160185': '1', '6674311': '1', '9233583': '1', '9378713': '1', '14085692': '1', '10391024': '1', '487020': '1', '8998884': '1', '1322810': '1', '745258': '1', '25343': '1', '9158005': '1', '11536766': '1', '15174535': '1', '2340377': '1', '9521531': '1', '3591832': '2', '490524': '1', '3827216': '1', '8354123': '1', '471234': '1', '5648375': '1', '10642518': '2', '6953169': '1', '1567141': '1', '533397': '1', '469929': '1', '6240131': '1', '1021329': '1', '3042420': '1', '3919404': '1', '12009908': '2', '1322325': '1', '9885177': '1', '499233': '2', '485238': '1', '469924': '1', '10334169': '1', '1575228': '1', '1876631': '1', '9590477': '1', '3150581': '1', '2425989': '1', '6028832': '1', '809572': '1', '6953092': '1', '4061452': '1', '5967809': '1', '10546376': '1', '1702095': '1', '1567119': '2', '10700281': '1', '904943': '1', '10202838': '1', '13392065': '1', '10350949': '2', '15151724': '1', '533400': '1', '1567157': '1', '11573818': '1', '4184099': '1', '1658325': '1', '10547406': '1', '9029486': '1', '4304855': '1', '6877910': '1', '9752591': '1', '2217617': '1', '849278': '1', '472179': '1', '15144871': '1', '1571705': '1', '7336712': '1', '8016250': '1', '498926': '1', '517605': '1', '9524956': '1', '10391291': '1', '9233584': '1', '7234779': '1', '472170': '1', '5202686': '1', '14098248': '1'}))]\n",
      "... initialization continued: 99.70989084243774 seconds\n"
     ]
    }
   ],
   "source": [
    "# part c - confirm record format and count (RUN THIS CELL AS IS)\n",
    "start = time.time()\n",
    "print(f'Total number of records: {wikiGraphRDD.count()}')\n",
    "print(f'First record: {wikiGraphRDD.take(1)}')\n",
    "print(f'... initialization continued: {time.time() - start} seconds')"
   ]
  },
  {
   "cell_type": "markdown",
   "metadata": {},
   "source": [
    "# Question 8 - PageRank part 2 (Iterate until convergence)\n",
    "\n",
    "Finally we're ready to compute the page rank. In this last question you'll write a Spark job that iterates over the initialized graph updating each nodes score until it reaches a convergence threshold. The diagram below gives a visual overview of the process using a 5 node toy graph. Pay particular attention to what happens to the dangling mass at each iteration.\n",
    "\n",
    "<img src='PR-illustrated.png'>\n",
    "\n",
    "\n",
    "\n",
    "__`A Note about Notation:`__ The formula above describes how to compute the updated page rank for a node in the graph. The $P$ on the left hand side of the equation is the new score, and the $P$ on the right hand side of the equation represents the accumulated mass that was re-distributed from all of that node's in-links. Finally, $|G|$ is the number of nodes in the graph (which we've elsewhere refered to as $N$).\n",
    "\n",
    "### Q8 Tasks:\n",
    "* __a) short response:__ In terms of the infinite random walk analogy, interpret the meaning of the first term in the PageRank calculation: $\\alpha * \\frac{1}{|G|}$\n",
    "\n",
    "* __b) short response:__ In the equation for the PageRank calculation above what does $m$ represent and why do we divide it by $|G|$?\n",
    "\n",
    "* __c) short response:__ Keeping track of the total probability mass after each update is a good way to confirm that your algorithm is on track. How much should the total mass be after each iteration?\n",
    "\n",
    "* __d) code:__ Fill in the missing code below to create a Spark job that take the initialized graph as its input then iterates over the graph and for each pass:\n",
    "  * reads in each record and redistributes the node's current score to each of its neighbors\n",
    "  * uses an accumulator to add up the dangling node mass and redistribute it among all the nodes. (_Don't forget to reset this accumulator after each iteration!_)\n",
    "  * uses an accumulator to keep track of the total mass being redistributed.( _This is just for your own check, its not part of the PageRank calculation. Don't forget to reset this accumulator after each iteration._)\n",
    "  * aggregates these partial scores for each node\n",
    "  * applies telportation and damping factors as described in the formula above.\n",
    "  * combine all of the above to compute the PageRank as described by the formula above.\n",
    "  * \n",
    "  \n",
    "   __WARNING:__ Some pages contain multiple hyperlinks to the same destination, please take this into account when redistributing the mass.\n",
    "\n",
    "* __e)__ Please report your environment configuration. ie, # of machines, # of cores, Memory of each. As well as timings.\n",
    " \n",
    "__`NOTE:`__ Please observe scalability best practices in the design of your code & comment your work clearly. You will be graded on both the clarity and the design."
   ]
  },
  {
   "cell_type": "markdown",
   "metadata": {},
   "source": [
    "### Q8 Student Answers:\n",
    "\n",
    "> __a)__ This first term refers to the teleportation probability that the walker will experience when visiting any node.  As the random walker continues to walk ad infinitum, they will always have this term chance to visit any node in the webgraph.  It represents the part of the PageRank algorithm which utilizes the Teleportation Matrix.\n",
    "\n",
    "> __b)__ m represents the probability mass of the current visited node and is missing from the PageRank total probability mass.  We divide it by |G| so that all of the nodes will receive an equal share of the current nodes probability mass.  In short, this part of algorithm is necessary to maintain 100% total probability mass during the PageRank algorithm's execution.\n",
    "\n",
    "> __c)__ The total probability mass after each iteration should consistently be 1.0, or 100%, to reflect that the sum of the probability for all nodes is still valid.  Any higher or lower would indicate a problem in our algorithm implementation. \n",
    "\n",
    "> __e)__ GCP Configuration - # of Machines: 1 Master + 2 Workers, Cores: 8 vCPU, Memory: 52GB, Time: 1hr 35min"
   ]
  },
  {
   "cell_type": "code",
   "execution_count": 15,
   "metadata": {},
   "outputs": [],
   "source": [
    "# part d - provided FloatAccumulator class (RUN THIS CELL AS IS)\n",
    "\n",
    "#wikiGraphRDD.saveAsTextFile('wikiGraphRDDfile')\n",
    "#wikiGraphRDD = sc.textFile('data/wiki_graph.txt')\n",
    "from pyspark.accumulators import AccumulatorParam\n",
    "\n",
    "class FloatAccumulatorParam(AccumulatorParam):\n",
    "    \"\"\"\n",
    "    Custom accumulator for use in page rank to keep track of various masses.\n",
    "    \n",
    "    IMPORTANT: accumulators should only be called inside actions to avoid duplication.\n",
    "    We stringly recommend you use the 'foreach' action in your implementation below.\n",
    "    \"\"\"\n",
    "    def zero(self, value):\n",
    "        return value\n",
    "    def addInPlace(self, val1, val2):\n",
    "        return val1 + val2"
   ]
  },
  {
   "cell_type": "code",
   "execution_count": 75,
   "metadata": {},
   "outputs": [],
   "source": [
    "# part d - job to run PageRank (RUN THIS CELL AS IS)\n",
    "def runPageRank(graphInitRDD, alpha = 0.15, maxIter = 10, verbose = True):\n",
    "    \"\"\"\n",
    "    Spark job to implement page rank\n",
    "    Args: \n",
    "        graphInitRDD  - pair RDD of (node_id , (score, edges))\n",
    "        alpha         - (float) teleportation factor\n",
    "        maxIter       - (int) stopping criteria (number of iterations)\n",
    "        verbose       - (bool) option to print logging info after each iteration\n",
    "    Returns:\n",
    "        steadyStateRDD - pair RDD of (node_id, pageRank)\n",
    "    \"\"\"\n",
    "    # teleportation:\n",
    "    a = sc.broadcast(alpha)\n",
    "    \n",
    "    # damping factor:\n",
    "    d = sc.broadcast(1-a.value)\n",
    "    \n",
    "    # initialize accumulators for dangling mass & total mass\n",
    "    mmAccum = sc.accumulator(0.0, FloatAccumulatorParam())\n",
    "    totAccum = sc.accumulator(0.0, FloatAccumulatorParam())\n",
    "    \n",
    "    ############## YOUR CODE HERE ###############\n",
    "    \n",
    "    #reads in each record and redistributes the node's current score to each of its neighbors\n",
    "    #uses an accumulator to add up the dangling node mass and redistribute it among all the nodes. (Don't forget to reset this accumulator after each iteration!)\n",
    "    #uses an accumulator to keep track of the total mass being redistributed.( This is just for your own check, its not part of the PageRank calculation. Don't forget to reset this accumulator after each iteration.)\n",
    "    #aggregates these partial scores for each node\n",
    "    #applies telportation and damping factors as described in the formula above.\n",
    "    #combine all of the above to compute the PageRank as described by the formula above.\n",
    "    #WARNING: Some pages contain multiple hyperlinks to the same destination, please take this into account when redistributing the mass.\n",
    "    \n",
    "    # write your helper functions here, \n",
    "    # please document the purpose of each clearly \n",
    "    # for reference, the master solution has 5 helper functions\n",
    "    \n",
    "    # Mapper function to convert a (node_id , (score, edges)) record into (node_id, edge_hash) and (node_id, score) records\n",
    "    def disperse_mass(node_record):\n",
    "        curr_node, mass_edge_tuple = node_record\n",
    "        curr_mass, edge_hash = mass_edge_tuple\n",
    "        \n",
    "        # Add current node mass to Total Mass\n",
    "        totAccum.add(float(curr_mass))\n",
    "        \n",
    "        edge_count = len(edge_hash.keys())\n",
    "        if edge_count == 0:\n",
    "            # Dangling Node - Add to mmAcum\n",
    "            mmAccum.add(float(curr_mass))\n",
    "        else:\n",
    "            # Nondangling - Disperse mass over current edges\n",
    "            # Calculation to use edge weights\n",
    "            weight_sum = 0\n",
    "            for val in edge_hash.values():\n",
    "                weight_sum += int(val)\n",
    "            partial_mass = float(curr_mass / weight_sum)\n",
    "\n",
    "            for edge, weight in edge_hash.items():\n",
    "                # Note, the test_set expected output is utilizing curr_mass instead of the weighted masses, so that is the implementation I included\n",
    "                # If we wanted to use the edge weights, we would use partial_mass * int(weight) in replacement of curr_mass\n",
    "                yield (int(edge), float(curr_mass / edge_count)) \n",
    "        yield (curr_node, edge_hash)\n",
    "                \n",
    "    # Combiner function to combine (node_id, edge_hash) and (node_id, score) records back into a (node_id , (score, edges)) record        \n",
    "    def combine(grouping):\n",
    "        node_id, records = grouping\n",
    "        mass = 0.0\n",
    "        edges = ''\n",
    "\n",
    "        for record in records:\n",
    "            if type(record) == dict:\n",
    "                # Avoid updating hash by recreating and updating string\n",
    "                for key, value in record.items():\n",
    "                    edges += f\"{key}-{value},\"\n",
    "            else:\n",
    "                mass += float(record)\n",
    "\n",
    "        edge_hash = {}\n",
    "        if edges != '':\n",
    "            # Reconstruct hash\n",
    "            if edges[-1] == ',':\n",
    "                edges = edges[:-1]\n",
    "\n",
    "            for edge_weight in edges.split(','):\n",
    "                # Each node and its weight are seperated by a dash\n",
    "                split = edge_weight.split('-')\n",
    "                edge_hash[split[0]] = split[1] \n",
    "\n",
    "        return (node_id, (mass, edge_hash))\n",
    "    \n",
    "    # Function that computes PageRank metric for each Node record\n",
    "    def compute_page_rank(node_record):\n",
    "        node_id, mass_tuple = node_record\n",
    "        mass, edges = mass_tuple\n",
    "        \n",
    "        mm = mm_b.value\n",
    "        node_count = count_b.value\n",
    "        teleportation = a.value\n",
    "        dampening = d.value\n",
    "        \n",
    "        page_rank = (teleportation * float(1/node_count)) + (dampening * (float(mm/node_count) + mass))\n",
    "        \n",
    "        return (node_id, (page_rank, edges))\n",
    "    \n",
    "    # Transforms (node_id , (score, edges)) records into (node_id , score) which is the expected output\n",
    "    def remove_edges(node_record):\n",
    "        node_id, mass_tuple = node_record\n",
    "        mass = mass_tuple[0]\n",
    "        return (node_id, mass)\n",
    "        \n",
    "            \n",
    "    # write your main Spark Job here (including the for loop to iterate)\n",
    "    # for reference, the master solution is 21 lines including comments & whitespace\n",
    "    count_b = sc.broadcast(graphInitRDD.count())\n",
    "    \n",
    "    nodeMassRDD = graphInitRDD\n",
    "    for i in range(1, maxIter+1): \n",
    "        # Map and Reduce\n",
    "        nodeMassRDD = nodeMassRDD.flatMap(disperse_mass).groupByKey().map(combine)\n",
    "\n",
    "        # This step is added as the action of choice per the recommendation from the FloatAccum cell to force RDD transformations to execute\n",
    "        nodeMassRDD.foreach(print)\n",
    "\n",
    "        # Broadcast missing mass for use in PageRank calculations\n",
    "        mm_b = sc.broadcast(mmAccum.value)\n",
    "        if verbose:\n",
    "            print(f\"Iteration {i} - Total Mass: {totAccum.value}, Missing Mass: {mmAccum.value}\")\n",
    "\n",
    "        # Compute PageRank\n",
    "        nodeMassRDD = nodeMassRDD.map(compute_page_rank)\n",
    "        \n",
    "        # Reset accumulators\n",
    "        mmAccum = sc.accumulator(0.0, FloatAccumulatorParam())\n",
    "        totAccum = sc.accumulator(0.0, FloatAccumulatorParam())\n",
    "\n",
    "    steadyStateRDD = nodeMassRDD.map(remove_edges)\n",
    "    \n",
    "    ############## (END) YOUR CODE ###############\n",
    "    \n",
    "    return steadyStateRDD"
   ]
  },
  {
   "cell_type": "code",
   "execution_count": 76,
   "metadata": {},
   "outputs": [
    {
     "name": "stdout",
     "output_type": "stream",
     "text": [
      "...trained 20 iterations in 3.5409858226776123 seconds.\n",
      "Top 20 ranked nodes:\n"
     ]
    },
    {
     "data": {
      "text/plain": [
       "[(2, 0.3803155224915675),\n",
       " (3, 0.3469932932917439),\n",
       " (5, 0.08088637369406641),\n",
       " (4, 0.039087602168414746),\n",
       " (6, 0.039087602168414746),\n",
       " (1, 0.032781877034008526),\n",
       " (8, 0.01616954583035677),\n",
       " (10, 0.01616954583035677),\n",
       " (7, 0.01616954583035677),\n",
       " (9, 0.01616954583035677),\n",
       " (11, 0.01616954583035677)]"
      ]
     },
     "execution_count": 76,
     "metadata": {},
     "output_type": "execute_result"
    }
   ],
   "source": [
    "# part d - run PageRank on the test graph (RUN THIS CELL AS IS)\n",
    "# NOTE: while developing your code you may want turn on the verbose option\n",
    "nIter = 20\n",
    "testGraphRDD = initGraph(testRDD)\n",
    "start = time.time()\n",
    "test_results = runPageRank(testGraphRDD, alpha = 0.15, maxIter = nIter, verbose = False)\n",
    "print(f'...trained {nIter} iterations in {time.time() - start} seconds.')\n",
    "print(f'Top 20 ranked nodes:')\n",
    "test_results.takeOrdered(20, key=lambda x: -x[1])"
   ]
  },
  {
   "cell_type": "markdown",
   "metadata": {},
   "source": [
    "__`expected results for the test graph:`__\n",
    "```\n",
    "(2, 0.3803155224915675)\n",
    "(3, 0.3469932932917439)\n",
    "(5, 0.08088637369406641)\n",
    "(4, 0.039087602168414746)\n",
    "(6, 0.039087602168414746)\n",
    "(1, 0.032781877034008526)\n",
    "(8, 0.01616954583035677)\n",
    "(10, 0.01616954583035677)\n",
    "(7, 0.01616954583035677)\n",
    "(9, 0.01616954583035677)\n",
    "(11, 0.01616954583035677)\n",
    "```"
   ]
  },
  {
   "cell_type": "code",
   "execution_count": 35,
   "metadata": {},
   "outputs": [],
   "source": [
    "# part d - run PageRank on the full graph (RUN THIS CELL AS IS)\n",
    "# NOTE: wikiGraphRDD should have been computed & cached above!\n",
    "if False: # See comment cell below!\n",
    "    nIter = 10\n",
    "    start = time.time()\n",
    "    full_results = runPageRank(wikiGraphRDD, alpha = 0.15, maxIter = nIter, verbose = True)\n",
    "    print(f'...trained {nIter} iterations in {time.time() - start} seconds.')\n",
    "    print(f'Top 20 ranked nodes:')\n",
    "    full_results.takeOrdered(20, key=lambda x: -x[1])"
   ]
  },
  {
   "attachments": {},
   "cell_type": "markdown",
   "metadata": {},
   "source": [
    "### FROM STUDENT:  Per the highly recommended GCP approach, I have uploaded my results as an image from my GCP DataProc run for the wikiRDD\n",
    "My SparkJob file is *hw5_q8.py* which is largely copy/pasted code from this notebook for Q7 and Q8.\n",
    "##### HW5 Q8 Output  - Top 20 Ranked Nodes:\n",
    "<img src='hw5_q8_output.PNG'>"
   ]
  },
  {
   "cell_type": "markdown",
   "metadata": {},
   "source": [
    "# Extra Credit\n",
    "(The combined extra credit points amount to approximately 5 percentage points on your final grade.)"
   ]
  },
  {
   "cell_type": "markdown",
   "metadata": {},
   "source": [
    "## EC 1 - 5pts\n",
    "The indexRDD we created earlier from the indices.txt file contains the titles of the pages and thier IDs. \n",
    "\n",
    "* __a)__ Join this dataset with your top 20 results.   \n",
    "* __b)__ Print the results\n",
    "\n",
    "Expected results:\n",
    "\n",
    "<img src=\"joinedWithTitles.png\" width=\"50%\">"
   ]
  },
  {
   "cell_type": "code",
   "execution_count": 38,
   "metadata": {},
   "outputs": [
    {
     "name": "stdout",
     "output_type": "stream",
     "text": [
      "[\"2\\t{'3': 1}\", \"3\\t{'2': 1}\", \"4\\t{'1': 1, '2': 1}\", \"5\\t{'4': 1, '2': 1, '6': 1}\", \"6\\t{'2': 1, '5': 1}\"]\n",
      "[('1', '! $var = &quot;&quot;'), ('2', '! (CONFIG.SYS directive)'), ('3', '! (album)'), ('4', '! (disambiguation)'), ('5', '! -attention-'), ('6', '! Time Zone'), ('7', '!! (chess)'), ('8', '!! (disambiguation)'), ('9', '!!! (Chk Chk Chk)'), ('10', '!!! (album)')]\n"
     ]
    }
   ],
   "source": [
    "# part a \n",
    "joinedWithNames = None\n",
    "################# YOUR CODE ##################\n",
    "full_results = sc.parallelize([])\n",
    "\n",
    "def split_tab(line):\n",
    "    values = line.split('\\t')\n",
    "    return (values[1], values[0])\n",
    "\n",
    "joinedWithNames = indexRDD.map(split_tab).join(full_results)\n",
    "############## (END) YOUR CODE ###############"
   ]
  },
  {
   "cell_type": "code",
   "execution_count": null,
   "metadata": {},
   "outputs": [],
   "source": [
    "# part b\n",
    "# Feel free to modify this cell to suit your implementation, but please keep the formatting and sort order.\n",
    "print(\"{:10s}\\t| {:10s}\\t| {}\".format(\"PageRank\",\"Page id\",\"Title\"))\n",
    "print(\"=\"*100)\n",
    "for r in joinedWithNames:\n",
    "    print (\"{:6f}\\t| {:10d}\\t| {}\".format(r[1][1],r[0],r[1][0]))"
   ]
  },
  {
   "cell_type": "markdown",
   "metadata": {},
   "source": [
    "## EC 2 - 30pts\n",
    "\n",
    "GraphFrames is a graph library which is built on top of the Spark DataFrames API. \n",
    "\n",
    "* __a)__ Using the same dataset, run the graphframes implementation of pagerank. \n",
    "* __b)__ Join the top 20 results with indices.txt and display in the same format as above.\n",
    "* __c)__ Compare your results with the results from graphframes. \n",
    "\n",
    "__NOTE:__ Feel free to create as many code cells as you need. Code should be clear and concise - do not include your scratch work. Comment your code if it's not self annotating."
   ]
  },
  {
   "cell_type": "code",
   "execution_count": 39,
   "metadata": {},
   "outputs": [
    {
     "ename": "ModuleNotFoundError",
     "evalue": "No module named 'graphframes'",
     "output_type": "error",
     "traceback": [
      "\u001b[0;31m\u001b[0m",
      "\u001b[0;31mModuleNotFoundError\u001b[0mTraceback (most recent call last)",
      "\u001b[0;32m<ipython-input-39-5bb6af77dc87>\u001b[0m in \u001b[0;36m<module>\u001b[0;34m()\u001b[0m\n\u001b[1;32m      1\u001b[0m \u001b[0;31m# Create a GraphFrame\u001b[0m\u001b[0;34m\u001b[0m\u001b[0;34m\u001b[0m\u001b[0m\n\u001b[0;32m----> 2\u001b[0;31m \u001b[0;32mfrom\u001b[0m \u001b[0mgraphframes\u001b[0m \u001b[0;32mimport\u001b[0m \u001b[0;34m*\u001b[0m\u001b[0;34m\u001b[0m\u001b[0m\n\u001b[0m\u001b[1;32m      3\u001b[0m \u001b[0;34m\u001b[0m\u001b[0m\n\u001b[1;32m      4\u001b[0m \u001b[0;31m################# YOUR CODE ##################\u001b[0m\u001b[0;34m\u001b[0m\u001b[0;34m\u001b[0m\u001b[0m\n\u001b[1;32m      5\u001b[0m \u001b[0;34m\u001b[0m\u001b[0m\n",
      "\u001b[0;31mModuleNotFoundError\u001b[0m: No module named 'graphframes'"
     ]
    }
   ],
   "source": [
    "# Create a GraphFrame\n",
    "from graphframes import *\n",
    "\n",
    "################# YOUR CODE ##################\n",
    "\n",
    "vertices = sqlContext.createDataFrame(wikiRDD)\n",
    "edges = sqlContext.createDataFrame(wikiRDD)\n",
    "g = GraphFrame(vertices, edges)\n",
    "\n",
    "results = g.pageRank(resetProbability=0.15, tol=0.01)\n",
    "print(results.vertices)\n",
    "\n",
    "joinedRDD = indexRDD.map(split_tab).join(results.vertices)\n",
    "\n",
    "print(\"{:10s}\\t| {:10s}\\t| {}\".format(\"PageRank\",\"Page id\",\"Title\"))\n",
    "print(\"=\"*100)\n",
    "for r in joinedRDD:\n",
    "    print (\"{:6f}\\t| {:10d}\\t| {}\".format(r[1][1],r[0],r[1][0]))\n",
    "\n",
    "############## (END) YOUR CODE ###############"
   ]
  },
  {
   "cell_type": "markdown",
   "metadata": {},
   "source": [
    "### Congratulations, you have completed HW5! Please refer to the readme for submission instructions."
   ]
  }
 ],
 "metadata": {
  "kernelspec": {
   "display_name": "Python 3",
   "language": "python",
   "name": "python3"
  },
  "language_info": {
   "codemirror_mode": {
    "name": "ipython",
    "version": 3
   },
   "file_extension": ".py",
   "mimetype": "text/x-python",
   "name": "python",
   "nbconvert_exporter": "python",
   "pygments_lexer": "ipython3",
   "version": "3.6.5"
  },
  "toc": {
   "colors": {
    "hover_highlight": "#DAA520",
    "running_highlight": "#FF0000",
    "selected_highlight": "#FFD700"
   },
   "moveMenuLeft": true,
   "nav_menu": {
    "height": "441px",
    "width": "252px"
   },
   "navigate_menu": true,
   "number_sections": true,
   "sideBar": true,
   "threshold": 4,
   "toc_cell": true,
   "toc_position": {
    "height": "827px",
    "left": "0px",
    "right": "1125px",
    "top": "107px",
    "width": "428px"
   },
   "toc_section_display": "block",
   "toc_window_display": true
  }
 },
 "nbformat": 4,
 "nbformat_minor": 2
}
