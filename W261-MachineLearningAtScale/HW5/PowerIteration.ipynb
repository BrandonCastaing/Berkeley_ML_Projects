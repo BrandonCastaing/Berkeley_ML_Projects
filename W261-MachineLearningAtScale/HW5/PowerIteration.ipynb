{
 "cells": [
  {
   "cell_type": "markdown",
   "metadata": {},
   "source": [
    "# Power Iteration\n",
    "Another good resource: http://ergodic.ugr.es/cphys/LECCIONES/FORTRAN/power_method.pdf"
   ]
  },
  {
   "cell_type": "code",
   "execution_count": 1,
   "metadata": {},
   "outputs": [],
   "source": [
    "import numpy as np"
   ]
  },
  {
   "cell_type": "code",
   "execution_count": 7,
   "metadata": {},
   "outputs": [],
   "source": [
    "#transition_matrix\n",
    "transition_matrix = np.array([[0, 0.5, 0, 0.5, 0],\n",
    "                              [0, 0, 0.5, 0, 0.5],\n",
    "                              [0, 0, 0, 1, 0],\n",
    "                              [0, 0, 0, 0, 1],\n",
    "                              [0.33333333, 0.33333333, 0.33333333, 0, 0]])"
   ]
  },
  {
   "cell_type": "code",
   "execution_count": 68,
   "metadata": {},
   "outputs": [
    {
     "data": {
      "text/plain": [
       "array([0.22153615, 0.3323206 , 0.38769688, 0.49849029, 0.66459259])"
      ]
     },
     "execution_count": 68,
     "metadata": {},
     "output_type": "execute_result"
    }
   ],
   "source": [
    "# Version 1\n",
    "def eigenvalue(A, v):\n",
    "    Av = A.dot(v)\n",
    "    return v.dot(Av)\n",
    "\n",
    "def power_iteration1(A, verbose=True):\n",
    "    n, d = A.shape\n",
    "\n",
    "    v = np.ones(d) / np.sqrt(d)\n",
    "    ev = eigenvalue(A, v)\n",
    "    count = 0\n",
    "    \n",
    "    while True:\n",
    "        count += 1\n",
    "        Av = A.dot(v)\n",
    "        v_new = Av / np.linalg.norm(Av)\n",
    "\n",
    "        ev_new = eigenvalue(A, v_new)\n",
    "        \n",
    "        if np.abs(ev - ev_new) < 0.00001:\n",
    "            break\n",
    "        \n",
    "        v = v_new\n",
    "        ev = ev_new\n",
    "        if verbose:\n",
    "            print(f'Step {count}:\\n {v_new}')\n",
    "    return ev_new, v_new, count\n",
    "\n",
    "power_iteration1(np.transpose(transition_matrix), verbose=False)[1]"
   ]
  },
  {
   "cell_type": "code",
   "execution_count": 80,
   "metadata": {},
   "outputs": [
    {
     "name": "stdout",
     "output_type": "stream",
     "text": [
      "Step 0:\n",
      " [0.20136585 0.28930237 0.30661419 0.50717955 0.7242324 ]\n",
      "Step 1:\n",
      " [0.2523576  0.357606   0.40356801 0.42576605 0.68138808]\n",
      "Step 2:\n",
      " [0.22858194 0.3555677  0.40852845 0.53313474 0.6084355 ]\n",
      "Step 3:\n",
      " [0.19649899 0.30723247 0.36874903 0.50654583 0.68879012]\n",
      "Step 4:\n",
      " [0.23421511 0.33444092 0.39092138 0.47639234 0.67344143]\n",
      "Step 5:\n",
      " [0.2252891  0.3428185  0.39311192 0.50985896 0.64593123]\n",
      "Step 6:\n",
      " [0.21283661 0.32418693 0.38227646 0.4999456  0.67344081]\n",
      "Step 7:\n",
      " [0.22601758 0.33316467 0.38922111 0.49204149 0.66657292]\n",
      "Step 8:\n",
      " [0.2223141  0.33538551 0.38898875 0.50250821 0.65898881]\n",
      "Step 9:\n",
      " [0.21889234 0.32965944 0.38599682 0.49839124 0.66784985]\n",
      "Step 10:\n",
      " [0.22314562 0.33285186 0.38836702 0.4966203  0.66479697]\n",
      "Step 11:\n",
      " [0.22157206 0.33313132 0.38797778 0.49987909 0.66296568]\n",
      "Step 12:\n",
      " [0.22076542 0.33143959 0.38716289 0.49826019 0.66577182]\n",
      "Step 13:\n",
      " [0.2221054  0.33257837 0.3879607  0.49795243 0.66452291]\n",
      "Step 14:\n",
      " [0.22147667 0.33251384 0.3877426  0.49894363 0.66414875]\n",
      "Step 15:\n",
      " [0.22132155 0.33202919 0.38753239 0.49834277 0.66501618]\n",
      "Step 16:\n",
      " [0.22173285 0.33242398 0.38779298 0.49832981 0.66453957]\n",
      "Step 17:\n",
      " [0.22149634 0.33235434 0.38769569 0.49862149 0.66449126]\n",
      "Step 18:\n",
      " [0.22148128 0.33222155 0.38764659 0.4984083  0.66475122]\n",
      "Step 19:\n",
      " [0.22160354 0.33235407 0.38772916 0.49843176 0.66457845]\n",
      "Step 20:\n",
      " [0.22151869 0.33231672 0.38769012 0.49851413 0.66458641]\n",
      "Step 21:\n",
      " [0.22152513 0.33228264 0.38768074 0.49844121 0.66466147]\n",
      "Step 22:\n",
      " [0.22156009 0.33232578 0.3877061  0.49845739 0.66460131]\n",
      "Step 23:\n",
      " [0.22153078 0.33230934 0.38769144 0.49847943 0.66461133]\n"
     ]
    },
    {
     "data": {
      "text/plain": [
       "array([0.22153078, 0.33230934, 0.38769144, 0.49847943, 0.66461133])"
      ]
     },
     "execution_count": 80,
     "metadata": {},
     "output_type": "execute_result"
    }
   ],
   "source": [
    "# Version 2\n",
    "def power_iteration2(A, num_simulations,verbose=True):\n",
    "    # Ideally choose a random vector\n",
    "    # To decrease the chance that our vector\n",
    "    # Is orthogonal to the eigenvector\n",
    "    # b_k = np.array([1.0, 0, 0, 0, 0])\n",
    "    b_k = np.random.rand(A.shape[1])\n",
    "\n",
    "    for ix in range(num_simulations):\n",
    "        # calculate the matrix-by-vector product Ab\n",
    "        b_k1 = np.dot(np.transpose(A), b_k)\n",
    "\n",
    "        # calculate the norm\n",
    "        b_k1_norm = np.linalg.norm(b_k1)\n",
    "        # re normalize the vector\n",
    "        b_k = b_k1 / b_k1_norm\n",
    "        if verbose:\n",
    "            print(f'Step {ix}:\\n {b_k}')\n",
    "    return b_k\n",
    "\n",
    "power_iteration2(transition_matrix, 24, verbose=True)"
   ]
  },
  {
   "cell_type": "code",
   "execution_count": 79,
   "metadata": {},
   "outputs": [
    {
     "data": {
      "text/plain": [
       "array([0.10526282, 0.15789423, 0.18420993, 0.23684134, 0.31578845])"
      ]
     },
     "execution_count": 79,
     "metadata": {},
     "output_type": "execute_result"
    }
   ],
   "source": [
    "# Version 3\n",
    "def power_iteration3(xInit, tMatrix, nIter, verbose = True):\n",
    "    state_vector = None\n",
    "    for ix in range(nIter):    \n",
    "        if verbose:\n",
    "            print(f'Step {ix}:\\n {tMatrix[0]}')\n",
    "        tMatrix = tMatrix @ tMatrix #<-- preferred form of: tMatrix = tMatrix.dot(tMatrix)\n",
    "    return tMatrix[0]\n",
    "\n",
    "# note that the initial state will not affect the convergence states\n",
    "xInit = np.array([1.0, 0, 0, 0, 0]) \n",
    "# xInit = np.random.rand(transition_matrix.shape[1])\n",
    "# xInit = np.ones(transition_matrix.shape[1]) / np.sqrt(transition_matrix.shape[1])\n",
    "# xInit = np.ones(transition_matrix.shape[1]) / (transition_matrix.shape[1])\n",
    "\n",
    "power_iteration3(xInit, transition_matrix, 10, verbose=False)"
   ]
  },
  {
   "cell_type": "markdown",
   "metadata": {},
   "source": [
    "## Rayleigh quotient\n",
    "The Rayleigh quotient is used in the min-max theorem to get exact values of all eigenvalues. It is also used in eigenvalue algorithms (such as Rayleigh quotient iteration) to obtain an eigenvalue approximation from an eigenvector approximation.\n",
    "https://en.wikipedia.org/wiki/Rayleigh_quotient"
   ]
  },
  {
   "cell_type": "code",
   "execution_count": 29,
   "metadata": {},
   "outputs": [],
   "source": [
    "# Using the Rayleigh quotient, the dominant eigenvalue is:\n",
    "def rayeigh_q(A,x):\n",
    "    return np.dot(A.dot(x),x)/np.dot(x,x)"
   ]
  },
  {
   "cell_type": "code",
   "execution_count": 48,
   "metadata": {},
   "outputs": [
    {
     "name": "stdout",
     "output_type": "stream",
     "text": [
      "0.9999999968421052\n",
      "0.22576031429932517\n",
      "[0.10526282 0.15789423 0.18420993 0.23684134 0.31578845]\n",
      "[0.10526316 0.15789474 0.18421053 0.23684211 0.31578947]\n"
     ]
    }
   ],
   "source": [
    "eigen_V3 = power_iteration3(xInit, transition_matrix, 10, False)[0]\n",
    "print(rayeigh_q(transition_matrix,eigen_V3))\n",
    "print(eigenvalue(transition_matrix,eigen_V3))\n",
    "print(eigen_V3)\n",
    "\n",
    "# normalized\n",
    "print(eigen_V3/sum(eigen_V3))"
   ]
  },
  {
   "cell_type": "code",
   "execution_count": 49,
   "metadata": {},
   "outputs": [
    {
     "name": "stdout",
     "output_type": "stream",
     "text": [
      "0.9999999968421052\n",
      "0.9999999968421052\n",
      "[0.22153951 0.33230926 0.38769414 0.4984639  0.66461853]\n",
      "[0.10526316 0.15789474 0.18421053 0.23684211 0.31578947]\n"
     ]
    }
   ],
   "source": [
    "eigen_V2 = power_iteration2(transition_matrix, 100)\n",
    "print(rayeigh_q(transition_matrix,eigen_V2))\n",
    "print(eigenvalue(transition_matrix,eigen_V2))\n",
    "print(eigen_V2)\n",
    "\n",
    "# normalized\n",
    "print(eigen_V2/sum(eigen_V2))"
   ]
  },
  {
   "cell_type": "code",
   "execution_count": 50,
   "metadata": {},
   "outputs": [
    {
     "name": "stdout",
     "output_type": "stream",
     "text": [
      "1.0000153271331802\n",
      "1.00001532713318\n",
      "[0.22153615 0.3323206  0.38769688 0.49849029 0.66459259]\n",
      "[0.105261   0.15789928 0.18421085 0.23685339 0.31577547]\n"
     ]
    }
   ],
   "source": [
    "eigen_V1 = power_iteration1(np.transpose(transition_matrix))[1]\n",
    "print(rayeigh_q(transition_matrix,eigen_V1))\n",
    "print(eigenvalue(transition_matrix,eigen_V1))\n",
    "print(eigen_V1)\n",
    "\n",
    "# normalized\n",
    "print(eigen_V1/sum(eigen_V1))"
   ]
  },
  {
   "cell_type": "code",
   "execution_count": null,
   "metadata": {},
   "outputs": [],
   "source": []
  }
 ],
 "metadata": {
  "kernelspec": {
   "display_name": "Python 3",
   "language": "python",
   "name": "python3"
  },
  "language_info": {
   "codemirror_mode": {
    "name": "ipython",
    "version": 3
   },
   "file_extension": ".py",
   "mimetype": "text/x-python",
   "name": "python",
   "nbconvert_exporter": "python",
   "pygments_lexer": "ipython3",
   "version": "3.6.6"
  }
 },
 "nbformat": 4,
 "nbformat_minor": 2
}
