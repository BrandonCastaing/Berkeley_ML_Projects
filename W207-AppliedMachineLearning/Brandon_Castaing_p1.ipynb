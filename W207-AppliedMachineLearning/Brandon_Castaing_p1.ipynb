{
 "cells": [
  {
   "cell_type": "markdown",
   "metadata": {},
   "source": [
    "# Project 1: Digit Classification with KNN and Naive Bayes"
   ]
  },
  {
   "cell_type": "markdown",
   "metadata": {},
   "source": [
    "In this project, you'll implement your own image recognition system for classifying digits. Read through the code and the instructions carefully and add your own code where indicated. Each problem can be addressed succinctly with the included packages -- please don't add any more. Grading will be based on writing clean, commented code, along with a few short answers.\n",
    "\n",
    "As always, you're welcome to work on the project in groups and discuss ideas on the course wall, but <b> please prepare your own write-up (with your own code). </b>\n",
    "\n",
    "If you're interested, check out these links related to digit recognition:\n",
    "\n",
    "Yann Lecun's MNIST benchmarks: http://yann.lecun.com/exdb/mnist/\n",
    "\n",
    "Stanford Streetview research and data: http://ufldl.stanford.edu/housenumbers/"
   ]
  },
  {
   "cell_type": "code",
   "execution_count": 1,
   "metadata": {},
   "outputs": [],
   "source": [
    "# This tells matplotlib not to try opening a new window for each plot.\n",
    "%matplotlib inline\n",
    "\n",
    "# Import a bunch of libraries.\n",
    "import time\n",
    "import numpy as np\n",
    "import matplotlib.pyplot as plt\n",
    "from matplotlib.ticker import MultipleLocator\n",
    "from sklearn.pipeline import Pipeline\n",
    "from sklearn.datasets import fetch_openml\n",
    "from sklearn.neighbors import KNeighborsClassifier\n",
    "from sklearn.metrics import confusion_matrix\n",
    "from sklearn.linear_model import LinearRegression\n",
    "from sklearn.naive_bayes import BernoulliNB\n",
    "from sklearn.naive_bayes import MultinomialNB\n",
    "from sklearn.naive_bayes import GaussianNB\n",
    "from sklearn.model_selection import GridSearchCV\n",
    "from sklearn.metrics import classification_report\n",
    "\n",
    "# Set the randomizer seed so results are the same each time.\n",
    "np.random.seed(0)"
   ]
  },
  {
   "cell_type": "markdown",
   "metadata": {},
   "source": [
    "Load the data. Notice that we are splitting the data into training, development, and test. We also have a small subset of the training data called mini_train_data and mini_train_labels that you should use in all the experiments below, unless otherwise noted."
   ]
  },
  {
   "cell_type": "code",
   "execution_count": 2,
   "metadata": {},
   "outputs": [
    {
     "name": "stdout",
     "output_type": "stream",
     "text": [
      "data shape:  (70000, 784)\n",
      "label shape: (70000,)\n"
     ]
    }
   ],
   "source": [
    "# Load the digit data from https://www.openml.org/d/554 or from default local location `~/scikit_learn_data/...`\n",
    "X, Y = fetch_openml(name='mnist_784', return_X_y=True, cache=False)\n",
    "\n",
    "# Rescale grayscale values to [0,1].\n",
    "X = X / 255.0\n",
    "\n",
    "# Shuffle the input: create a random permutation of the integers between 0 and the number of data points and apply this\n",
    "# permutation to X and Y.\n",
    "# NOTE: Each time you run this cell, you'll re-shuffle the data, resulting in a different ordering.\n",
    "shuffle = np.random.permutation(np.arange(X.shape[0]))\n",
    "X, Y = X[shuffle], Y[shuffle]\n",
    "\n",
    "print('data shape: ', X.shape)\n",
    "print('label shape:', Y.shape)\n",
    "\n",
    "# Set some variables to hold test, dev, and training data.\n",
    "test_data, test_labels = X[61000:], Y[61000:]\n",
    "dev_data, dev_labels = X[60000:61000], Y[60000:61000]\n",
    "train_data, train_labels = X[:60000], Y[:60000]\n",
    "mini_train_data, mini_train_labels = X[:1000], Y[:1000]"
   ]
  },
  {
   "cell_type": "markdown",
   "metadata": {},
   "source": [
    "(1) Create a 10x10 grid to visualize 10 examples of each digit. Python hints:\n",
    "\n",
    "- plt.rc() for setting the colormap, for example to black and white\n",
    "- plt.subplot() for creating subplots\n",
    "- plt.imshow() for rendering a matrix\n",
    "- np.array.reshape() for reshaping a 1D feature vector into a 2D matrix (for rendering)"
   ]
  },
  {
   "cell_type": "code",
   "execution_count": 3,
   "metadata": {},
   "outputs": [
    {
     "data": {
      "image/png": "[encoded data removed]",
      "text/plain": [
       "<Figure size 432x288 with 100 Axes>"
      ]
     },
     "metadata": {},
     "output_type": "display_data"
    }
   ],
   "source": [
    "def P1(num_examples=10):\n",
    "    # Find first 10 labels and data for each digit\n",
    "    data_indexes = {}\n",
    "    for index, num in enumerate(mini_train_labels):\n",
    "        # Skip once num_examples has been added\n",
    "        if len(data_indexes.get(num, [])) >= num_examples:\n",
    "            continue\n",
    "\n",
    "        if data_indexes.get(num) is None:\n",
    "            data_indexes[num] = [index]\n",
    "        else:\n",
    "            data_indexes[num].append(index)\n",
    "\n",
    "    # Merge indexes from dict into a single array\n",
    "    flattened_data_indexes = []\n",
    "    for l in data_indexes.values():\n",
    "        flattened_data_indexes += l\n",
    "            \n",
    "    # Plot 10x10 grid of 10 examples of each digit\n",
    "    count = 0\n",
    "    for i in flattened_data_indexes:\n",
    "        image = np.array(mini_train_data[i]).reshape((28, 28))\n",
    "        plt.subplot(num_examples, num_examples, count+1)\n",
    "        plt.axis('off')\n",
    "        plt.imshow(image, cmap='Greys')\n",
    "        count += 1\n",
    "\n",
    "\n",
    "P1()"
   ]
  },
  {
   "cell_type": "markdown",
   "metadata": {},
   "source": [
    "(2) Evaluate a K-Nearest-Neighbors model with k = [1,3,5,7,9] using the mini training set. Report accuracy on the dev set. For k=1, show precision, recall, and F1 for each label. Which is the most difficult digit?\n",
    "\n",
    "- KNeighborsClassifier() for fitting and predicting\n",
    "- classification_report() for producing precision, recall, F1 results"
   ]
  },
  {
   "cell_type": "code",
   "execution_count": 4,
   "metadata": {},
   "outputs": [
    {
     "name": "stdout",
     "output_type": "stream",
     "text": [
      "K=1 accuracy: 0.884\n",
      "              precision    recall  f1-score   support\n",
      "\n",
      "           0       0.95      0.95      0.95       106\n",
      "           1       0.89      0.98      0.93       118\n",
      "           2       0.90      0.79      0.84       106\n",
      "           3       0.93      0.87      0.90        97\n",
      "           4       0.91      0.85      0.88        92\n",
      "           5       0.86      0.88      0.87        88\n",
      "           6       0.92      0.92      0.92       102\n",
      "           7       0.85      0.94      0.89       102\n",
      "           8       0.83      0.77      0.80        94\n",
      "           9       0.80      0.86      0.83        95\n",
      "\n",
      "   micro avg       0.88      0.88      0.88      1000\n",
      "   macro avg       0.88      0.88      0.88      1000\n",
      "weighted avg       0.89      0.88      0.88      1000\n",
      "\n",
      "K=3 accuracy: 0.876\n",
      "K=5 accuracy: 0.882\n",
      "K=7 accuracy: 0.877\n",
      "K=9 accuracy: 0.875\n"
     ]
    }
   ],
   "source": [
    "def P2(k_values):\n",
    "    # Report accuracy for each k value\n",
    "    for k in k_values:\n",
    "        knn_model = KNeighborsClassifier(n_neighbors=k)\n",
    "        knn_model.fit(mini_train_data, mini_train_labels)\n",
    "        print(\"K=%s accuracy: %s\" % (k, str(knn_model.score(dev_data, dev_labels))))\n",
    "        \n",
    "        # K=1 Show precision, recall, and F1 for each label\n",
    "        if k == 1:\n",
    "            print(classification_report(dev_labels, knn_model.predict(dev_data)))\n",
    "        \n",
    "    \n",
    "    \n",
    "k_values = [1, 3, 5, 7, 9]\n",
    "P2(k_values)"
   ]
  },
  {
   "cell_type": "markdown",
   "metadata": {},
   "source": [
    "ANSWER: Most difficult digit = 9"
   ]
  },
  {
   "cell_type": "markdown",
   "metadata": {},
   "source": [
    "(3) Using k=1, report dev set accuracy for the training set sizes below. Also, measure the amount of time needed for prediction with each training size.\n",
    "\n",
    "- time.time() gives a wall clock value you can use for timing operations"
   ]
  },
  {
   "cell_type": "code",
   "execution_count": 5,
   "metadata": {},
   "outputs": [
    {
     "name": "stdout",
     "output_type": "stream",
     "text": [
      "TS=100, Accuracy: 0.702, Elapsed Time: 0.3168954849243164s\n",
      "TS=200, Accuracy: 0.791, Elapsed Time: 0.666996955871582s\n",
      "TS=400, Accuracy: 0.811, Elapsed Time: 1.3701610565185547s\n",
      "TS=800, Accuracy: 0.866, Elapsed Time: 2.454406261444092s\n",
      "TS=1600, Accuracy: 0.905, Elapsed Time: 4.525661468505859s\n",
      "TS=3200, Accuracy: 0.927, Elapsed Time: 9.015787839889526s\n",
      "TS=6400, Accuracy: 0.939, Elapsed Time: 18.044195652008057s\n",
      "TS=12800, Accuracy: 0.952, Elapsed Time: 36.96553063392639s\n",
      "TS=25000, Accuracy: 0.962, Elapsed Time: 70.80764675140381s\n"
     ]
    }
   ],
   "source": [
    "def P3(train_sizes, accuracies):\n",
    "    for ts in train_sizes:\n",
    "        # Fit new model per training size\n",
    "        knn_model = KNeighborsClassifier(n_neighbors=1)\n",
    "        knn_model.fit(train_data[:ts], train_labels[:ts])\n",
    "\n",
    "        # Measure time needed for prediction\n",
    "        curr_time = time.time()\n",
    "        score = knn_model.score(dev_data, dev_labels)\n",
    "        elapsed_time = time.time() - curr_time\n",
    "        accuracies.append(score)\n",
    "        \n",
    "        print(\"TS=%s, Accuracy: %s, Elapsed Time: %ss\" % (ts, str(score), elapsed_time))\n",
    "\n",
    "    \n",
    "train_sizes = [100, 200, 400, 800, 1600, 3200, 6400, 12800, 25000]\n",
    "accuracies = []\n",
    "P3(train_sizes, accuracies)"
   ]
  },
  {
   "cell_type": "markdown",
   "metadata": {},
   "source": [
    "(4) Fit a regression model that predicts accuracy from training size. What does it predict for n=60000? What's wrong with using regression here? Can you apply a transformation that makes the predictions more reasonable?\n",
    "\n",
    "- Remember that the sklearn fit() functions take an input matrix X and output vector Y. So each input example in X is a vector, even if it contains only a single value."
   ]
  },
  {
   "cell_type": "code",
   "execution_count": 6,
   "metadata": {},
   "outputs": [
    {
     "name": "stdout",
     "output_type": "stream",
     "text": [
      "Predicted accuracy: 1.2446923405015078\n"
     ]
    }
   ],
   "source": [
    "def P4():\n",
    "    # Reformat train_size array to matrix\n",
    "    train_size_matrix = []\n",
    "    for ts in train_sizes:\n",
    "        train_size_matrix.append([ts])\n",
    "        \n",
    "    # Fit linear regression model and predict for 60000 train size\n",
    "    lr_model = LinearRegression()\n",
    "    lr_model.fit(np.array(train_size_matrix), np.array(accuracies))\n",
    "    prediction = lr_model.predict([[60000]])[0]\n",
    "    print(\"Predicted accuracy: %s\" % str(prediction))\n",
    "    \n",
    "    \n",
    "P4()"
   ]
  },
  {
   "cell_type": "markdown",
   "metadata": {},
   "source": [
    "ANSWER: Regression assumes a linear relationship between our independent and dependent variable, but there is an exponential distribution.  This can be remedied with a logarithmic transformation."
   ]
  },
  {
   "cell_type": "markdown",
   "metadata": {},
   "source": [
    "Fit a 1-NN and output a confusion matrix for the dev data. Use the confusion matrix to identify the most confused pair of digits, and display a few example mistakes.\n",
    "\n",
    "- confusion_matrix() produces a confusion matrix"
   ]
  },
  {
   "cell_type": "code",
   "execution_count": 7,
   "metadata": {},
   "outputs": [
    {
     "name": "stdout",
     "output_type": "stream",
     "text": [
      "[[101   0   1   0   0   0   1   1   2   0]\n",
      " [  0 116   1   0   0   0   0   0   1   0]\n",
      " [  1   4  84   2   2   0   2   4   6   1]\n",
      " [  0   2   0  84   0   6   0   2   3   0]\n",
      " [  0   0   1   0  78   0   0   2   0  11]\n",
      " [  2   0   0   1   1  77   5   0   2   0]\n",
      " [  1   2   1   0   1   2  94   0   1   0]\n",
      " [  0   1   1   0   0   0   0  96   0   4]\n",
      " [  1   5   4   3   1   3   0   1  72   4]\n",
      " [  0   1   0   0   3   2   0   7   0  82]]\n"
     ]
    },
    {
     "data": {
      "image/png": "[encoded data removed]",
      "text/plain": [
       "<Figure size 432x288 with 3 Axes>"
      ]
     },
     "metadata": {},
     "output_type": "display_data"
    }
   ],
   "source": [
    "def P5():\n",
    "    # Output confusion matrix on the dev data\n",
    "    knn_model = KNeighborsClassifier(n_neighbors=1)\n",
    "    knn_model.fit(mini_train_data, mini_train_labels)\n",
    "    predictions = knn_model.predict(dev_data)\n",
    "    print(confusion_matrix(dev_labels, predictions))\n",
    "    \n",
    "    # Find \"a few\" misclassified digits for \"most confused\" digit: 8\n",
    "    count = 0\n",
    "    mistaken_values = []\n",
    "    most_confused_digit = '8'\n",
    "    for index, value in enumerate(dev_labels):\n",
    "        if predictions[index] != value and count < 3 and value == most_confused_digit:\n",
    "            mistaken_values.append({'dev_data_index': index, 'predicted_value': predictions[index], 'label_value': value})\n",
    "            count += 1\n",
    "            \n",
    "    # Plot misclassified digits\n",
    "    plot_count = 0\n",
    "    for mistaken_value in mistaken_values:\n",
    "        image = np.array(dev_data[mistaken_value['dev_data_index']]).reshape((28, 28))\n",
    "        plt.subplot(3, 3, plot_count+1)\n",
    "        plt.axis('off')\n",
    "        plt.title(\"Prediction: %s, Label: %s\" % (mistaken_value['predicted_value'], \n",
    "                                                 mistaken_value['label_value']))\n",
    "        plt.imshow(image, cmap='Greys')\n",
    "        plot_count += 1\n",
    "    plt.tight_layout()\n",
    "    \n",
    "    \n",
    "P5()"
   ]
  },
  {
   "cell_type": "markdown",
   "metadata": {},
   "source": [
    "(6) A common image processing technique is to smooth an image by blurring. The idea is that the value of a particular pixel is estimated as the weighted combination of the original value and the values around it. Typically, the blurring is Gaussian -- that is, the weight of a pixel's influence is determined by a Gaussian function over the distance to the relevant pixel.\n",
    "\n",
    "Implement a simplified Gaussian blur by just using the 8 neighboring pixels: the smoothed value of a pixel is a weighted combination of the original value and the 8 neighboring values. Try applying your blur filter in 3 ways:\n",
    "- preprocess the training data but not the dev data\n",
    "- preprocess the dev data but not the training data\n",
    "- preprocess both training and dev data\n",
    "\n",
    "Note that there are Guassian blur filters available, for example in scipy.ndimage.filters. You're welcome to experiment with those, but you are likely to get the best results with the simplified version I described above."
   ]
  },
  {
   "cell_type": "code",
   "execution_count": 8,
   "metadata": {},
   "outputs": [
    {
     "name": "stdout",
     "output_type": "stream",
     "text": [
      "Preprocess train, not dev - Scipy Library Accuracy: 0.7669343392956228\n",
      "Preprocess dev, not train - Scipy Library Accuracy: 0.5342448683224085\n",
      "Preprocess both - Scipy Library Accuracy: 0.4642035814479944\n",
      "Preprocess train, not dev - Custom Gaus Blur Accuracy: 0.8236218315325178\n",
      "Preprocess dev, not train - Custom Gaus Blur Accuracy: 0.8832988391528966\n",
      "Preprocess both - Custom Gaus Blur Accuracy: 0.8904742215759743\n"
     ]
    }
   ],
   "source": [
    "# Simple custom function to apply gaussian blur to our data sets\n",
    "def simple_custom_gaussian_blur(data_set):\n",
    "    size = 28\n",
    "    current_pixel_weight = 2\n",
    "    outer_pixel_weight = 1\n",
    "    gaussian_blur_data_set = np.zeros(data_set.shape)\n",
    "    \n",
    "    for index, data in enumerate(data_set):\n",
    "        reformat_data = np.array(data).reshape((size, size))\n",
    "        # Iterate over all pixels surrounded by 8 other pixels\n",
    "        for x in range(1,size-1):\n",
    "            for y in range(1,size-1):\n",
    "                # Sum outer pixels * outer pixel weight\n",
    "                curr_sum = 0\n",
    "                for outer_x in range(x-1, x+1):\n",
    "                    for outer_y in range(y-1, y+1):\n",
    "                        if outer_x == x and outer_y == y: continue \n",
    "                        curr_sum += reformat_data[outer_x, outer_y] * outer_pixel_weight\n",
    "\n",
    "                # Add current pixel * curr pixel weight\n",
    "                curr_sum += reformat_data[x,y] * current_pixel_weight\n",
    "\n",
    "                # Divide and add new pixel value to dataset\n",
    "                reformat_data[x,y] = curr_sum / 9\n",
    "        gaussian_blur_data_set[index] = reformat_data.reshape((1, 784))    \n",
    "    return gaussian_blur_data_set\n",
    "\n",
    "\n",
    "def P6():\n",
    "    from scipy.ndimage.filters import gaussian_filter\n",
    "\n",
    "    # Preprocess training, not dev data\n",
    "    pp_using_lib_mini_train_data = gaussian_filter(mini_train_data, sigma=1)\n",
    "    preproc_mini_train_data = simple_custom_gaussian_blur(mini_train_data)\n",
    "    \n",
    "    # Preprocess dev, not training data\n",
    "    pp_using_lib_dev_data = gaussian_filter(dev_data, sigma=1)\n",
    "    preproc_dev_data = simple_custom_gaussian_blur(dev_data)\n",
    "    \n",
    "    knn_model = KNeighborsClassifier(n_neighbors=1)\n",
    "\n",
    "    # Results for preprocess training, not dev data using library\n",
    "    knn_model.fit(pp_using_lib_mini_train_data, mini_train_labels)\n",
    "    predictions = knn_model.predict(dev_data)\n",
    "    avg_f1_score = classification_report(dev_labels, predictions, output_dict=True)['weighted avg']['f1-score']\n",
    "    print(\"Preprocess train, not dev - Scipy Library Accuracy: %s\" % str(avg_f1_score))\n",
    "    \n",
    "    # Results for preprocess dev, not training data using library\n",
    "    knn_model.fit(mini_train_data, mini_train_labels)\n",
    "    predictions = knn_model.predict(pp_using_lib_dev_data)\n",
    "    avg_f1_score = classification_report(dev_labels, predictions, output_dict=True)['weighted avg']['f1-score']\n",
    "    print(\"Preprocess dev, not train - Scipy Library Accuracy: %s\" % str(avg_f1_score))\n",
    "    \n",
    "    # Results for preprocess both using library\n",
    "    knn_model.fit(pp_using_lib_mini_train_data, mini_train_labels)\n",
    "    predictions = knn_model.predict(pp_using_lib_dev_data)\n",
    "    avg_f1_score = classification_report(dev_labels, predictions, output_dict=True)['weighted avg']['f1-score']\n",
    "    print(\"Preprocess both - Scipy Library Accuracy: %s\" % str(avg_f1_score))\n",
    "    \n",
    "    # Results for preprocess training, not dev data using custom filter\n",
    "    knn_model.fit(preproc_mini_train_data, mini_train_labels)\n",
    "    predictions = knn_model.predict(dev_data)\n",
    "    avg_f1_score = classification_report(dev_labels, predictions, output_dict=True)['weighted avg']['f1-score']\n",
    "    print(\"Preprocess train, not dev - Custom Gaus Blur Accuracy: %s\" % str(avg_f1_score))\n",
    "    \n",
    "    # Results for preprocess dev, not training data using custom filter\n",
    "    knn_model.fit(mini_train_data, mini_train_labels)\n",
    "    predictions = knn_model.predict(dev_data)\n",
    "    avg_f1_score = classification_report(dev_labels, predictions, output_dict=True)['weighted avg']['f1-score']\n",
    "    print(\"Preprocess dev, not train - Custom Gaus Blur Accuracy: %s\" % str(avg_f1_score))\n",
    "    \n",
    "    # Results for preprocess both using custom filter\n",
    "    knn_model.fit(preproc_mini_train_data, mini_train_labels)\n",
    "    predictions = knn_model.predict(preproc_dev_data)\n",
    "    avg_f1_score = classification_report(dev_labels, predictions, output_dict=True)['weighted avg']['f1-score']\n",
    "    print(\"Preprocess both - Custom Gaus Blur Accuracy: %s\" % str(avg_f1_score))\n",
    "    \n",
    "    \n",
    "P6()"
   ]
  },
  {
   "cell_type": "markdown",
   "metadata": {},
   "source": [
    "ANSWER:  Overall, the simple custom gaussian blur described above performs much better than the scip version.  The best results came from using the custom blur on both the dev and train data sets.  This is a result of smoothing to help us avoid overfitting, so the accuracy on the dev set was better."
   ]
  },
  {
   "cell_type": "markdown",
   "metadata": {},
   "source": [
    "(7) Fit a Naive Bayes classifier and report accuracy on the dev data. Remember that Naive Bayes estimates P(feature|label). While sklearn can handle real-valued features, let's start by mapping the pixel values to either 0 or 1. You can do this as a preprocessing step, or with the binarize argument. With binary-valued features, you can use BernoulliNB. Next try mapping the pixel values to 0, 1, or 2, representing white, grey, or black. This mapping requires MultinomialNB. Does the multi-class version improve the results? Why or why not?"
   ]
  },
  {
   "cell_type": "code",
   "execution_count": 9,
   "metadata": {},
   "outputs": [
    {
     "name": "stdout",
     "output_type": "stream",
     "text": [
      "BernoulliNB Accuracy: 0.819\n",
      "MultinomialNB Accuracy: 0.815\n"
     ]
    }
   ],
   "source": [
    "def P7():\n",
    "    # Binarize the data\n",
    "    b_mini_train_data = np.zeros(mini_train_data.shape)\n",
    "    b_dev_data = np.zeros(dev_data.shape)\n",
    "    for feature in range(mini_train_data.shape[1]):\n",
    "        b_mini_train_data[:,feature] = mini_train_data[:,feature] > 0.50\n",
    "        b_dev_data[:,feature] = dev_data[:,feature] > 0.50\n",
    "    \n",
    "    # BernoulliNB\n",
    "    bnb_model = BernoulliNB()\n",
    "    bnb_model.fit(b_mini_train_data, mini_train_labels)\n",
    "    bnb_score = bnb_model.score(b_dev_data, dev_labels)\n",
    "    print(\"BernoulliNB Accuracy: %s\" % str(bnb_score))\n",
    "    \n",
    "    # Black, grey, white the data\n",
    "    bgw_mini_train_data = np.zeros(mini_train_data.shape)\n",
    "    bgw_dev_data = np.zeros(dev_data.shape)\n",
    "    for feature in range(mini_train_data.shape[1]):\n",
    "        new_feature_array = []\n",
    "        for value in mini_train_data[:,feature]:\n",
    "            if value >= 0.33 and value <= 0.67:\n",
    "                new_feature_array.append(1)\n",
    "            elif value < 0.33:\n",
    "                new_feature_array.append(0)\n",
    "            else:\n",
    "                new_feature_array.append(2)\n",
    "        bgw_mini_train_data[:,feature] = new_feature_array\n",
    "\n",
    "        new_feature_array = []\n",
    "        for value in dev_data[:,feature]:\n",
    "            if value >= 0.33 and value <= 0.67:\n",
    "                new_feature_array.append(1)\n",
    "            elif value < 0.33:\n",
    "                new_feature_array.append(0)\n",
    "            else:\n",
    "                new_feature_array.append(2)\n",
    "        bgw_dev_data[:,feature] = new_feature_array\n",
    "    \n",
    "    # MultinomialNB\n",
    "    mnb_model = MultinomialNB()\n",
    "    mnb_model.fit(bgw_mini_train_data, mini_train_labels)\n",
    "    mnb_score = mnb_model.score(bgw_dev_data, dev_labels)\n",
    "    print(\"MultinomialNB Accuracy: %s\" % str(mnb_score))\n",
    "    \n",
    "P7()"
   ]
  },
  {
   "cell_type": "markdown",
   "metadata": {},
   "source": [
    "ANSWER:  The multiclass version does not improve the results; In fact, the results slightly decrease.  This is a result of the nature of the problem since a writing mark (e.g. black or 1) is what is being used in the Naive Bayes algorithm, not the severity or degree.  As such, both algorithms performed fairly similarly, but adding the additional classes to the multinomial model lowered its overall accuracy."
   ]
  },
  {
   "cell_type": "markdown",
   "metadata": {},
   "source": [
    "(8) Use GridSearchCV to perform a search over values of alpha (the Laplace smoothing parameter) in a Bernoulli NB model. What is the best value for alpha? What is the accuracy when alpha=0? Is this what you'd expect?\n",
    "\n",
    "- Note that GridSearchCV partitions the training data so the results will be a bit different than if you used the dev data for evaluation."
   ]
  },
  {
   "cell_type": "code",
   "execution_count": 10,
   "metadata": {},
   "outputs": [
    {
     "name": "stderr",
     "output_type": "stream",
     "text": [
      "c:\\software\\lib\\site-packages\\sklearn\\naive_bayes.py:480: UserWarning: alpha too small will result in numeric errors, setting alpha = 1.0e-10\n",
      "  'setting alpha = %.1e' % _ALPHA_MIN)\n",
      "c:\\software\\lib\\site-packages\\sklearn\\naive_bayes.py:480: UserWarning: alpha too small will result in numeric errors, setting alpha = 1.0e-10\n",
      "  'setting alpha = %.1e' % _ALPHA_MIN)\n",
      "c:\\software\\lib\\site-packages\\sklearn\\naive_bayes.py:480: UserWarning: alpha too small will result in numeric errors, setting alpha = 1.0e-10\n",
      "  'setting alpha = %.1e' % _ALPHA_MIN)\n",
      "c:\\software\\lib\\site-packages\\sklearn\\naive_bayes.py:480: UserWarning: alpha too small will result in numeric errors, setting alpha = 1.0e-10\n",
      "  'setting alpha = %.1e' % _ALPHA_MIN)\n",
      "c:\\software\\lib\\site-packages\\sklearn\\naive_bayes.py:480: UserWarning: alpha too small will result in numeric errors, setting alpha = 1.0e-10\n",
      "  'setting alpha = %.1e' % _ALPHA_MIN)\n",
      "c:\\software\\lib\\site-packages\\sklearn\\model_selection\\_search.py:841: DeprecationWarning: The default of the `iid` parameter will change from True to False in version 0.22 and will be removed in 0.24. This will change numeric results when test-set sizes are unequal.\n",
      "  DeprecationWarning)\n"
     ]
    }
   ],
   "source": [
    "def P8(alphas):  \n",
    "    # Binarize the data\n",
    "    b_mini_train_data = np.zeros(mini_train_data.shape)\n",
    "    for feature in range(mini_train_data.shape[1]):\n",
    "        b_mini_train_data[:,feature] = mini_train_data[:,feature] > 0.50\n",
    "\n",
    "    # GridSearch over alpha values\n",
    "    bnb_model = BernoulliNB()\n",
    "    gscv = GridSearchCV(bnb_model, alphas, cv=5)\n",
    "    gscv.fit(b_mini_train_data, mini_train_labels)\n",
    "    return gscv\n",
    "\n",
    "alphas = {'alpha': [0.0, 0.0001, 0.001, 0.01, 0.1, 0.5, 1.0, 2.0, 10.0]}\n",
    "nb = P8(alphas)"
   ]
  },
  {
   "cell_type": "code",
   "execution_count": 11,
   "metadata": {},
   "outputs": [
    {
     "name": "stdout",
     "output_type": "stream",
     "text": [
      "Alpha=0 Accuracy: 0.83\n",
      "{'alpha': 0.001}\n"
     ]
    }
   ],
   "source": [
    "print(\"Alpha=0 Accuracy: %s\" % str(nb.cv_results_['mean_test_score'][0]))\n",
    "print(nb.best_params_)"
   ]
  },
  {
   "cell_type": "markdown",
   "metadata": {},
   "source": [
    "ANSWER:  \n",
    "Best value for Alpha: 0.001\n",
    "Alpha=0 Accuracy: 0.83  \n",
    "Expected?  Yes.  Laplace smoothing is added to avoid overfitting at the cost of some overall accuracy, so an extremely low amount of smoothing should have the highest accuracy."
   ]
  },
  {
   "cell_type": "markdown",
   "metadata": {},
   "source": [
    "(9) Try training a model using GuassianNB, which is intended for real-valued features, and evaluate on the dev data. You'll notice that it doesn't work so well. Try to diagnose the problem. You should be able to find a simple fix that returns the accuracy to around the same rate as BernoulliNB. Explain your solution.\n",
    "\n",
    "Hint: examine the parameters estimated by the fit() method, theta\\_ and sigma\\_."
   ]
  },
  {
   "cell_type": "code",
   "execution_count": 12,
   "metadata": {},
   "outputs": [
    {
     "name": "stdout",
     "output_type": "stream",
     "text": [
      "Initial GaussianNB Accuracy: 0.593\n",
      "{'priors': None, 'var_smoothing': 1e-09}\n",
      "Adjusted GaussianNB Accuracy: 0.821\n",
      "{'priors': None, 'var_smoothing': 0.06}\n"
     ]
    }
   ],
   "source": [
    "def P9():\n",
    "    gnb_model = GaussianNB()\n",
    "    gnb_model.fit(mini_train_data, mini_train_labels)\n",
    "    print(\"Initial GaussianNB Accuracy: %s\" % str(gnb_model.score(dev_data, dev_labels)))\n",
    "    print(gnb_model.get_params(True))\n",
    "    \n",
    "    gnb_model = GaussianNB(var_smoothing=0.06)\n",
    "    gnb_model.fit(mini_train_data, mini_train_labels)\n",
    "    print(\"Adjusted GaussianNB Accuracy: %s\" % str(gnb_model.score(dev_data, dev_labels)))\n",
    "    print(gnb_model.get_params(True))\n",
    "    \n",
    "\n",
    "gnb = P9()"
   ]
  },
  {
   "cell_type": "markdown",
   "metadata": {},
   "source": [
    "ANSWER:  I used the var_smoothing parameter to drastically improve the accuracy of the GaussianNB model.  This was achieved because the smoothing value was neglible (1e-09), so hardly any smoothing was occurring likely resulting in overfitting.  As such, assessing the model against the dev data set yielded poor results.  My solution was to increase the smoothing value until similar results to the BernoulliNB model were reached."
   ]
  },
  {
   "cell_type": "markdown",
   "metadata": {},
   "source": [
    "(10) Because Naive Bayes is a generative model, we can use the trained model to generate digits. Train a BernoulliNB model and then generate a 10x20 grid with 20 examples of each digit. Because you're using a Bernoulli model, each pixel output will be either 0 or 1. How do the generated digits compare to the training digits?\n",
    "\n",
    "- You can use np.random.rand() to generate random numbers from a uniform distribution\n",
    "- The estimated probability of each pixel is stored in feature\\_log\\_prob\\_. You'll need to use np.exp() to convert a log probability back to a probability."
   ]
  },
  {
   "cell_type": "code",
   "execution_count": 13,
   "metadata": {},
   "outputs": [
    {
     "data": {
      "image/png": "[encoded data removed]",
      "text/plain": [
       "<Figure size 432x288 with 200 Axes>"
      ]
     },
     "metadata": {},
     "output_type": "display_data"
    }
   ],
   "source": [
    "def P10(num_examples):\n",
    "    # Binarize the data\n",
    "    b_mini_train_data = np.zeros(mini_train_data.shape)\n",
    "    for feature in range(mini_train_data.shape[1]):\n",
    "        b_mini_train_data[:,feature] = mini_train_data[:,feature] > 0.50\n",
    "\n",
    "    # Fit BernoulliNB\n",
    "    bnb_model = BernoulliNB()\n",
    "    bnb_model.fit(b_mini_train_data, mini_train_labels)\n",
    "    \n",
    "    # For each digits probability\n",
    "    generated_numbers = []\n",
    "    for prob in bnb_model.feature_log_prob_:\n",
    "        # Convert from log probability back to probability\n",
    "        float_probs = np.exp(prob)\n",
    "        \n",
    "        # Generate 20 examples of each digit\n",
    "        for i in range(0, num_examples):\n",
    "            # New random values each iteration\n",
    "            random_chances = np.random.rand(784)\n",
    "            generated_numbers.append(float_probs >= random_chances)\n",
    "        \n",
    "    # Plot each newly generated number\n",
    "    plot_count = 0    \n",
    "    for number in generated_numbers:\n",
    "        image = np.array(number).reshape((28, 28))\n",
    "        plt.subplot(10, num_examples, plot_count+1)\n",
    "        plt.axis('off')\n",
    "        plt.imshow(image, cmap='Greys')\n",
    "        plot_count += 1\n",
    "        \n",
    "    \n",
    "P10(20)"
   ]
  },
  {
   "cell_type": "markdown",
   "metadata": {},
   "source": [
    "ANSWER:  The newly generated digits look quite sparse, but have a noticable resemblance to the actual digit they represent.  The sparseness is due to the probablistic properties of the Bernoulli distribution for every pixel, so this is expected.  Overall, this exercise is absolutely fantastic and I enjoyed learning this process.  "
   ]
  },
  {
   "cell_type": "markdown",
   "metadata": {},
   "source": [
    "(11) Remember that a strongly calibrated classifier is rougly 90% accurate when the posterior probability of the predicted class is 0.9. A weakly calibrated classifier is more accurate when the posterior is 90% than when it is 80%. A poorly calibrated classifier has no positive correlation between posterior and accuracy.\n",
    "\n",
    "Train a BernoulliNB model with a reasonable alpha value. For each posterior bucket (think of a bin in a histogram), you want to estimate the classifier's accuracy. So for each prediction, find the bucket the maximum posterior belongs to and update the \"correct\" and \"total\" counters.\n",
    "\n",
    "How would you characterize the calibration for the Naive Bayes model?"
   ]
  },
  {
   "cell_type": "code",
   "execution_count": 14,
   "metadata": {},
   "outputs": [
    {
     "name": "stdout",
     "output_type": "stream",
     "text": [
      "[0.5, 0.9, 0.999, 0.99999, 0.9999999, 0.999999999, 0.99999999999, 0.9999999999999, 1.0]\n",
      "[2, 149, 421, 475, 495, 524, 569, 524, 4429]\n",
      "[1414, 149, 421, 475, 495, 524, 569, 524, 4429]\n",
      "p(pred) <= 0.5000000000000    total = 1414    accuracy = 0.001\n",
      "p(pred) <= 0.9000000000000    total = 149    accuracy = 1.000\n",
      "p(pred) <= 0.9990000000000    total = 421    accuracy = 1.000\n",
      "p(pred) <= 0.9999900000000    total = 475    accuracy = 1.000\n",
      "p(pred) <= 0.9999999000000    total = 495    accuracy = 1.000\n",
      "p(pred) <= 0.9999999990000    total = 524    accuracy = 1.000\n",
      "p(pred) <= 0.9999999999900    total = 569    accuracy = 1.000\n",
      "p(pred) <= 0.9999999999999    total = 524    accuracy = 1.000\n",
      "p(pred) <= 1.0000000000000    total = 4429    accuracy = 1.000\n"
     ]
    }
   ],
   "source": [
    "def P11(buckets, correct, total):\n",
    "    # Binarize training and dev data\n",
    "    b_train_data = np.zeros(train_data.shape)\n",
    "    b_test_data = np.zeros(test_data.shape)\n",
    "    for feature in range(train_data.shape[1]):\n",
    "        b_train_data[:,feature] = train_data[:,feature] > 0.50\n",
    "        b_test_data[:,feature] = test_data[:,feature] > 0.50\n",
    "\n",
    "    # Fit BernoulliNB - Using alpha 0.5 determined in P8\n",
    "    bnb_model = BernoulliNB(alpha=0.5)\n",
    "    bnb_model.fit(b_train_data, train_labels)\n",
    "    \n",
    "    for i, data_point in enumerate(b_test_data):\n",
    "        # Determine posterior probabilities\n",
    "        label_probability_index = int(test_labels[i])\n",
    "        bnb_model_confidence = bnb_model.predict_proba([data_point])[0][label_probability_index]\n",
    "\n",
    "        # Determine appropriate bucket\n",
    "        bucket_index = 0\n",
    "        for value in buckets:\n",
    "            if bnb_model_confidence > value:\n",
    "                bucket_index += 1\n",
    "            else:\n",
    "                continue\n",
    "        \n",
    "        # Update correct count for bucket\n",
    "        if bnb_model.predict([data_point])[0] == test_labels[i]:\n",
    "            correct[bucket_index] += 1\n",
    "        \n",
    "        # Update total count for bucket\n",
    "        total[bucket_index] += 1\n",
    "\n",
    "    \n",
    "buckets = [0.5, 0.9, 0.999, 0.99999, 0.9999999, 0.999999999, 0.99999999999, 0.9999999999999, 1.0]\n",
    "correct = [0 for i in buckets]\n",
    "total = [0 for i in buckets]\n",
    "\n",
    "P11(buckets, correct, total)\n",
    "\n",
    "print(buckets)\n",
    "print(correct)\n",
    "print(total)\n",
    "\n",
    "for i in range(len(buckets)):\n",
    "   accuracy = 0.0\n",
    "   if (total[i] > 0): accuracy = correct[i] / total[i]\n",
    "   print('p(pred) <= %.13f    total = %3d    accuracy = %.3f' %(buckets[i], total[i], accuracy))"
   ]
  },
  {
   "cell_type": "markdown",
   "metadata": {},
   "source": [
    "ANSWER:  The calibration for my BernoulliNB model is excellent.  When finally introducing the trained BernoulliNB model to the test set, it was able to predict with 100% accuracy when it had a confidence level of 90%+.  Many of these exercises for this Project 1 submission really helped me understand the fine details of training one of my first machine learning models.  Thanks professor."
   ]
  },
  {
   "cell_type": "markdown",
   "metadata": {},
   "source": [
    "(12) EXTRA CREDIT\n",
    "\n",
    "Try designing extra features to see if you can improve the performance of Naive Bayes on the dev set. Here are a few ideas to get you started:\n",
    "- Try summing the pixel values in each row and each column.\n",
    "- Try counting the number of enclosed regions; 8 usually has 2 enclosed regions, 9 usually has 1, and 7 usually has 0.\n",
    "\n",
    "Make sure you comment your code well!"
   ]
  },
  {
   "cell_type": "code",
   "execution_count": 15,
   "metadata": {},
   "outputs": [],
   "source": [
    "#def P12():\n",
    "\n",
    "### STUDENT START ###\n",
    "\n",
    "\n",
    "### STUDENT END ###\n",
    "\n",
    "#P12()"
   ]
  }
 ],
 "metadata": {
  "kernelspec": {
   "display_name": "Python 3",
   "language": "python",
   "name": "python3"
  },
  "language_info": {
   "codemirror_mode": {
    "name": "ipython",
    "version": 3
   },
   "file_extension": ".py",
   "mimetype": "text/x-python",
   "name": "python",
   "nbconvert_exporter": "python",
   "pygments_lexer": "ipython3",
   "version": "3.6.5"
  }
 },
 "nbformat": 4,
 "nbformat_minor": 1
}
